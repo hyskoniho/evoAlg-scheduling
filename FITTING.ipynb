{
 "cells": [
  {
   "cell_type": "markdown",
   "metadata": {},
   "source": [
    "# Imports"
   ]
  },
  {
   "cell_type": "code",
   "execution_count": 45,
   "metadata": {},
   "outputs": [],
   "source": [
    "import random, sys, string, os\n",
    "from collections import Counter\n",
    "from concurrent.futures import ProcessPoolExecutor, as_completed\n",
    "from multiprocessing import freeze_support\n",
    "from numba import jit"
   ]
  },
  {
   "cell_type": "markdown",
   "metadata": {},
   "source": [
    "# Definição do problema"
   ]
  },
  {
   "cell_type": "code",
   "execution_count": 31,
   "metadata": {},
   "outputs": [],
   "source": [
    "aulas: list[str] = [\n",
    "    'M', # Matemática\n",
    "    'L', # Língua Portuguesa\n",
    "    'H', # História\n",
    "    'C', # Ciências\n",
    "    'R', # Ensino Religioso\n",
    "    'I', # Inglês\n",
    "    'F', # Educação Física\n",
    "    'A', # Arte\n",
    "]"
   ]
  },
  {
   "cell_type": "code",
   "execution_count": 32,
   "metadata": {},
   "outputs": [],
   "source": [
    "case: str = 'ILLMMMCHIHLLMHHILLILHLMAHIAHLFHIMHLCILMCMLIMCMAAAILHLMCLIMLAIHCHMMLLLIMLIHHMLALMIMMAMLIRMFRMLILMMHIRLAIMALRACLMICMAHIFFM'"
   ]
  },
  {
   "cell_type": "markdown",
   "metadata": {},
   "source": [
    "# Funções auxiliares"
   ]
  },
  {
   "cell_type": "code",
   "execution_count": 51,
   "metadata": {},
   "outputs": [
    {
     "data": {
      "text/plain": [
       "['IMIMLHHLMIMCALIIMLILIMMLMLACCI',\n",
       " 'LMHHLLIFHLLMIMMHMIHAMLFIHALLMF',\n",
       " 'LCLHIMAHLMIALCLCLMHLMIRLIIRMAF',\n",
       " 'MHLILAHICCMAHLAHLLMMARMMRMAIHM']"
      ]
     },
     "execution_count": 51,
     "metadata": {},
     "output_type": "execute_result"
    }
   ],
   "source": [
    "@jit\n",
    "def separar_turmas(horario: str, quantidade_turmas: int = 4) -> list[str]:\n",
    "    \"\"\" Separa o horário em turmas\n",
    "    \n",
    "    Args:\n",
    "        horario (str): Horário das aulas\n",
    "        quantidade_turmas (int, optional): Quantidade de turmas. Defaults to 4.\n",
    "    \n",
    "    Returns:\n",
    "        list[str]: Lista de horários separados por turma\n",
    "    \"\"\"\n",
    "    \n",
    "    # Cria uma lista de strings vazias\n",
    "    turmas: list[str] = ['' for _ in range(quantidade_turmas)]\n",
    "    \n",
    "    # Itera sobre o horário\n",
    "    for i, aula in enumerate(horario):\n",
    "        # Adiciona a aula na turma correspondente\n",
    "        turmas[i % quantidade_turmas] += aula\n",
    "    \n",
    "    return turmas\n",
    "\n",
    "separar_turmas(case)"
   ]
  },
  {
   "cell_type": "code",
   "execution_count": 52,
   "metadata": {},
   "outputs": [
    {
     "data": {
      "text/plain": [
       "[['I', 'M', 'I', 'M', 'L', 'H'],\n",
       " ['H', 'L', 'M', 'I', 'M', 'C'],\n",
       " ['A', 'L', 'I', 'I', 'M', 'L'],\n",
       " ['I', 'L', 'I', 'M', 'M', 'L'],\n",
       " ['M', 'L', 'A', 'C', 'C', 'I']]"
      ]
     },
     "execution_count": 52,
     "metadata": {},
     "output_type": "execute_result"
    }
   ],
   "source": [
    "@jit\n",
    "def separar_dias(turma: str) -> list[list[str]]:\n",
    "    \"\"\" Separa a turma em dias\n",
    "    \n",
    "    Args:\n",
    "        turma (str): Horário de uma turma\n",
    "    \n",
    "    Returns:\n",
    "        list[list[str]]: Lista de horários separados por dia\n",
    "    \"\"\"\n",
    "    \n",
    "    # Cria uma lista de strings vazias\n",
    "    dias: list[list[str]] = [['' for _ in range(6)] for _ in range(5)]\n",
    "    \n",
    "    # Itera sobre o horário\n",
    "    for i, aula in enumerate(turma):\n",
    "        # Adiciona a aula no dia correspondente\n",
    "        dias[i // 6][i % 6] = aula\n",
    "    \n",
    "    return dias\n",
    "\n",
    "separar_dias(separar_turmas(case)[0])"
   ]
  },
  {
   "cell_type": "markdown",
   "metadata": {},
   "source": [
    "# Avaliação"
   ]
  },
  {
   "cell_type": "code",
   "execution_count": 35,
   "metadata": {},
   "outputs": [
    {
     "data": {
      "text/plain": [
       "0"
      ]
     },
     "execution_count": 35,
     "metadata": {},
     "output_type": "execute_result"
    }
   ],
   "source": [
    "requisitos: dict = {\n",
    "    'M': 28,\n",
    "    'L': 28,\n",
    "    'H': 16,\n",
    "    'C': 8,\n",
    "    'R': 4,\n",
    "    'I': 20,\n",
    "    'F': 4\n",
    "}\n",
    "\n",
    "def quantidade_aulas(horario: str, requisitos: dict) -> int:\n",
    "    \"\"\" Verifica se o horário tem a quantidade de aulas necessárias \n",
    "    \n",
    "    Args:\n",
    "        horario (str): Horário das aulas\n",
    "        requisitos (dict): Requisitos de aulas por matéria\n",
    "    \n",
    "    Returns:\n",
    "        int: Quantidade de aulas faltantes ou excedentes\n",
    "    \"\"\"\n",
    "    \n",
    "    # Conta a quantidade de aulas de cada matéria no horário especificado\n",
    "    c: Counter = Counter(horario)\n",
    "    # e.g. {'M': 28, 'L': 28, 'H': 16, 'C': 8, 'R': 4, 'I': 20, 'F': 4}\n",
    "    \n",
    "    n: int =  sum( # Somatório\n",
    "        abs( # Valor absoluto para obter a diferença entre a quantidade de aulas esperada e a quantidade de aulas no horário\n",
    "            requisitos[materia] - c.get(materia, 0) # Quantidade esperada daquela matéria - Quantidade de aulas daquela matéria no horário\n",
    "        ) \\\n",
    "            for materia in requisitos # Aplica a operação para cada matéria, e soma o resultado\n",
    "    )\n",
    "    \n",
    "    return n\n",
    "\n",
    "quantidade_aulas(case, requisitos)"
   ]
  },
  {
   "cell_type": "code",
   "execution_count": 56,
   "metadata": {},
   "outputs": [
    {
     "data": {
      "text/plain": [
       "14"
      ]
     },
     "execution_count": 56,
     "metadata": {},
     "output_type": "execute_result"
    }
   ],
   "source": [
    "@jit\n",
    "def validar_restricoes(horario: str) -> int:\n",
    "    n: int = 0\n",
    "    for turma in separar_turmas(horario):\n",
    "        for d, dia in enumerate(separar_dias(turma)):\n",
    "            \n",
    "            # Verifica se o horário da aula de inglês é após as 10:50\n",
    "            if 'I' in dia and dia.index('I') >= 4:\n",
    "                n += 1\n",
    "                \n",
    "            if 'I' not in dia:\n",
    "                n += 1\n",
    "            \n",
    "            # Verifica se o horário de Geo/História é após as 10:50\n",
    "            if 'H' in dia and dia.index('H') >= 4:\n",
    "                n += 1\n",
    "                \n",
    "            # Verifica se o horário de Educação Física é antes das 9:10\n",
    "            if 'F' in dia and dia.index('F') < 2:\n",
    "                n += 1\n",
    "                \n",
    "            # Verifica se o dia da educação física não é sexta-feira\n",
    "            if 'F' in dia and d < 4:\n",
    "                n += 1\n",
    "\n",
    "    return n\n",
    "\n",
    "validar_restricoes(case)"
   ]
  },
  {
   "cell_type": "code",
   "execution_count": 36,
   "metadata": {},
   "outputs": [],
   "source": [
    "# Dicionário de aulas com seus respectivos caracteres\n",
    "aula_dict = {\n",
    "    'M': 'Matemática',\n",
    "    'L': 'Língua Portuguesa',\n",
    "    'H': 'História',\n",
    "    'C': 'Ciências',\n",
    "    'R': 'Ensino Religioso',\n",
    "    'I': 'Inglês',\n",
    "    'F': 'Educação Física',\n",
    "    'A': 'Arte',\n",
    "}\n",
    "\n",
    "# Dicionário de restrições - AKA Limitação dos horários dos professores\n",
    "restricoes = {\n",
    "    0: {  # Segunda-feira\n",
    "        'I': ['manhã'],\n",
    "        'H': ['manhã'],\n",
    "        'F': []  \n",
    "    },\n",
    "\n",
    "    1: {  # Terça-feira\n",
    "        'I': ['manhã'],\n",
    "        'H': ['manhã'],\n",
    "        'F': []\n",
    "    },\n",
    "\n",
    "    2: {  # Quarta-feira\n",
    "        'I': ['manhã'],\n",
    "        'H': ['manhã'],  \n",
    "        'F': []\n",
    "    },\n",
    "\n",
    "    3: {  # Quinta-feira\n",
    "        'I': ['manhã'],\n",
    "        'H': ['manhã'],\n",
    "        'F': []\n",
    "    },\n",
    "\n",
    "    4: {  # Sexta-feira\n",
    "        'I': ['manhã'],\n",
    "        'H': ['manhã'],\n",
    "        'F': [2,3,4,5]  # Educação Física deve estar na terceira até sexta aula (índice 1)\n",
    "    }\n",
    "}"
   ]
  },
  {
   "cell_type": "code",
   "execution_count": 37,
   "metadata": {},
   "outputs": [
    {
     "data": {
      "text/plain": [
       "'IMIMLHHLMIMCALIIMLILIMMLMLACCI'"
      ]
     },
     "execution_count": 37,
     "metadata": {},
     "output_type": "execute_result"
    }
   ],
   "source": [
    "t = separar_turmas(case)[0]\n",
    "t"
   ]
  },
  {
   "cell_type": "code",
   "execution_count": 38,
   "metadata": {},
   "outputs": [
    {
     "data": {
      "text/plain": [
       "9"
      ]
     },
     "execution_count": 38,
     "metadata": {},
     "output_type": "execute_result"
    }
   ],
   "source": []
  },
  {
   "cell_type": "code",
   "execution_count": 39,
   "metadata": {},
   "outputs": [],
   "source": [
    "def validar_horario(horario, restricoes):\n",
    "    pontos = 0\n",
    "    for turma in range(4):\n",
    "        offset = turma * 30\n",
    "        for dia in range(5):\n",
    "            aulas_do_dia = horario[offset + dia*6 : offset + (dia+1)*6]\n",
    "            regras = restricoes[dia]\n",
    "            for aula, condicoes in regras.items():\n",
    "                if isinstance(condicoes, list):\n",
    "                    for condicao in condicoes:\n",
    "                        if isinstance(condicao, int):\n",
    "                            if aulas_do_dia[condicao] != aula:\n",
    "                                pontos += 1\n",
    "                        elif isinstance(condicao, list):\n",
    "                            if not any(aulas_do_dia[i] == aula for i in condicao):\n",
    "                                pontos += 1\n",
    "                        elif condicao == 'manhã' and aula in aulas_do_dia[4:]:\n",
    "                            pontos += 1\n",
    "                        elif condicao == 'somente' and aula not in aulas_do_dia:\n",
    "                            pontos += 1\n",
    "            count_ingles = aulas_do_dia.count('I')\n",
    "            if count_ingles == 0:\n",
    "                pontos += 1\n",
    "            elif count_ingles > 1:\n",
    "                pontos += (count_ingles - 1)\n",
    "    return pontos"
   ]
  },
  {
   "cell_type": "code",
   "execution_count": 40,
   "metadata": {},
   "outputs": [],
   "source": [
    "def verificar_sobreposicao(horario):\n",
    "    pontuacao = 0\n",
    "    sub_horarios = [horario[i:i+30] for i in range(0, len(horario), 30)]\n",
    "    for dia in range(5):\n",
    "        for aula_index in range(6):\n",
    "            aulas_no_horario = [sub_horario[dia * 6 + aula_index] for sub_horario in sub_horarios]\n",
    "            contador_aulas = {}\n",
    "            for aula in aulas_no_horario:\n",
    "                contador_aulas[aula] = contador_aulas.get(aula, 0) + 1\n",
    "            for count in contador_aulas.values():\n",
    "                if count > 1:\n",
    "                    pontuacao += (count - 1)\n",
    "    return pontuacao"
   ]
  },
  {
   "cell_type": "code",
   "execution_count": 41,
   "metadata": {},
   "outputs": [],
   "source": [
    "def fitting(horario):\n",
    "    contador = Counter(horario)\n",
    "    pontuacao = sum(abs(requisitos[aula] - contador.get(aula, 0)) for aula in requisitos)\n",
    "    pontuacao += validar_horario(horario, restricoes)\n",
    "    pontuacao += verificar_sobreposicao(horario)  \n",
    "    return pontuacao"
   ]
  },
  {
   "cell_type": "code",
   "execution_count": 42,
   "metadata": {},
   "outputs": [
    {
     "data": {
      "text/plain": [
       "44"
      ]
     },
     "execution_count": 42,
     "metadata": {},
     "output_type": "execute_result"
    }
   ],
   "source": [
    "fitting(case)"
   ]
  }
 ],
 "metadata": {
  "kernelspec": {
   "display_name": ".venv",
   "language": "python",
   "name": "python3"
  },
  "language_info": {
   "codemirror_mode": {
    "name": "ipython",
    "version": 3
   },
   "file_extension": ".py",
   "mimetype": "text/x-python",
   "name": "python",
   "nbconvert_exporter": "python",
   "pygments_lexer": "ipython3",
   "version": "3.12.4"
  }
 },
 "nbformat": 4,
 "nbformat_minor": 2
}
