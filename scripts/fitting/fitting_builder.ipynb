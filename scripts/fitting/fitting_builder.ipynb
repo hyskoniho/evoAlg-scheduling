{
 "cells": [
  {
   "cell_type": "markdown",
   "metadata": {},
   "source": [
    "# Imports"
   ]
  },
  {
   "cell_type": "code",
   "execution_count": 1,
   "metadata": {},
   "outputs": [],
   "source": [
    "import random, sys, string, os, inspect\n",
    "from collections import Counter"
   ]
  },
  {
   "cell_type": "markdown",
   "metadata": {},
   "source": [
    "# Definição do problema"
   ]
  },
  {
   "cell_type": "code",
   "execution_count": 2,
   "metadata": {},
   "outputs": [],
   "source": [
    "aulas: list[str] = [\n",
    "    'M', # Matemática\n",
    "    'T', # Tecnologia (Mind Makers)\n",
    "    'F', # Ed. Financeira\n",
    "    'L', # Língua Portuguesa\n",
    "    'H', # História\n",
    "    'G', # Geografia\n",
    "    'R', # Ensino Religioso\n",
    "    'A', # Artes\n",
    "    'C', # Ciências\n",
    "    'I', # Inglês\n",
    "    'U', # Música\n",
    "    'E', # Educação Física\n",
    "]"
   ]
  },
  {
   "cell_type": "code",
   "execution_count": 3,
   "metadata": {},
   "outputs": [
    {
     "data": {
      "text/plain": [
       "'RLHMAAELLEGRATRACMLHTTRUILHILACAIGATIEMMMTAHLLICCTTRHUHALMTGHAGAIALCAAHELCGUHFHMRMURAFTRCGRACIEUIUITFHFEMEFEHIILGHLRIFRM'"
      ]
     },
     "execution_count": 3,
     "metadata": {},
     "output_type": "execute_result"
    }
   ],
   "source": [
    "case: str = ''.join([random.choice(aulas) for _ in range(120)])\n",
    "case"
   ]
  },
  {
   "cell_type": "markdown",
   "metadata": {},
   "source": [
    "# Funções auxiliares"
   ]
  },
  {
   "cell_type": "code",
   "execution_count": null,
   "metadata": {},
   "outputs": [
    {
     "data": {
      "text/plain": [
       "['RLHMAAELLEGRATRACMLHTTRUILHILA',\n",
       " 'CAIGATIEMMMTAHLLICCTTRHUHALMTG',\n",
       " 'HAGAIALCAAHELCGUHFHMRMURAFTRCG',\n",
       " 'RACIEUIUITFHFEMEFEHIILGHLRIFRM']"
      ]
     },
     "execution_count": 4,
     "metadata": {},
     "output_type": "execute_result"
    }
   ],
   "source": [
    "def separar_turmas(horario: str, quantidade_turmas: int = 4) -> list[str]:\n",
    "    \"\"\" Separa o horário em turmas\n",
    "    \n",
    "    Args:\n",
    "        horario (str): Horário das aulas\n",
    "        quantidade_turmas (int, optional): Quantidade de turmas. Defaults to 4.\n",
    "    \n",
    "    Returns:\n",
    "        list[str]: Lista de horários separados por turma\n",
    "    \"\"\"\n",
    "    tamanho_grupo = len(horario) // quantidade_turmas\n",
    "    turmas = []\n",
    "    for i in range(quantidade_turmas):\n",
    "        inicio = i * tamanho_grupo\n",
    "        fim = inicio + tamanho_grupo\n",
    "        turmas.append(horario[inicio:fim])\n",
    "        \n",
    "    return turmas\n",
    "        \n",
    "separar_turmas(case)"
   ]
  },
  {
   "cell_type": "code",
   "execution_count": null,
   "metadata": {},
   "outputs": [
    {
     "data": {
      "text/plain": [
       "['RLHMAA', 'ELLEGR', 'ATRACM', 'LHTTRU', 'ILHILA']"
      ]
     },
     "execution_count": 5,
     "metadata": {},
     "output_type": "execute_result"
    }
   ],
   "source": [
    "def separar_dias(turma: str) -> list[list[str]]:\n",
    "    \"\"\" Separa a turma em dias\n",
    "    \n",
    "    Args:\n",
    "        turma (str): Horário de uma turma\n",
    "    \n",
    "    Returns:\n",
    "        list[list[str]]: Lista de horários separados por dia\n",
    "    \"\"\"\n",
    "    dias: list[list[str]] = [['' for _ in range(6)] for _ in range(5)]\n",
    "    \n",
    "    for i, aula in enumerate(turma):\n",
    "        dias[i // 6][i % 6] = aula\n",
    "    \n",
    "    return [''.join(dia) for dia in dias]\n",
    "\n",
    "separar_dias(separar_turmas(case)[0])"
   ]
  },
  {
   "cell_type": "markdown",
   "metadata": {},
   "source": [
    "# Avaliação"
   ]
  },
  {
   "cell_type": "code",
   "execution_count": null,
   "metadata": {},
   "outputs": [
    {
     "data": {
      "text/plain": [
       "20"
      ]
     },
     "execution_count": 6,
     "metadata": {},
     "output_type": "execute_result"
    }
   ],
   "source": [
    "REQUISITOS: dict = {\n",
    "    'M': 5, \n",
    "    'T': 1, \n",
    "    'F': 1, \n",
    "    'L': 7, \n",
    "    'H': 2, \n",
    "    'G': 2, \n",
    "    'R': 1, \n",
    "    'A': 2, \n",
    "    'C': 2, \n",
    "    'I': 5, \n",
    "    'U': 1, \n",
    "    'E': 1, \n",
    "}\n",
    "\n",
    "def quantidade_aulas(horario: str, quantidade: int = 1, requisitos: dict = REQUISITOS) -> int:\n",
    "    \"\"\" Verifica se o horário tem a quantidade de aulas necessárias \n",
    "    \n",
    "    Args:\n",
    "        horario (str): Horário das aulas\n",
    "        requisitos (dict): Requisitos de aulas por matéria\n",
    "    \n",
    "    Returns:\n",
    "        int: Quantidade de aulas faltantes ou excedentes\n",
    "    \"\"\"\n",
    "    \n",
    "    # Conta a quantidade de aulas de cada matéria no horário especificado\n",
    "    c: Counter = Counter(horario)\n",
    "    # e.g. {'M': 28, 'L': 28, 'H': 16, 'C': 8, 'R': 4, 'I': 20, 'F': 4}\n",
    "\n",
    "    nota_quantidade: int =  sum( # Somatório\n",
    "        abs( # Valor absoluto para obter a diferença entre a quantidade de aulas esperada e a quantidade de aulas no horário\n",
    "            (requisitos[materia]*quantidade) - c.get(materia, 0) # Quantidade esperada daquela matéria - Quantidade de aulas daquela matéria no horário\n",
    "        ) \\\n",
    "            for materia in requisitos # Aplica a operação para cada matéria, e soma o resultado\n",
    "    )\n",
    "    \n",
    "    return nota_quantidade\n",
    "\n",
    "quantidade_aulas(separar_turmas(case)[0], requisitos=REQUISITOS)"
   ]
  },
  {
   "cell_type": "code",
   "execution_count": 7,
   "metadata": {},
   "outputs": [
    {
     "data": {
      "text/plain": [
       "0.03"
      ]
     },
     "execution_count": 7,
     "metadata": {},
     "output_type": "execute_result"
    }
   ],
   "source": [
    "def bonus_aula_dupla(hdia: str | list[str]) -> float:\n",
    "    \"\"\" Verifica se há aulas duplas\n",
    "    \n",
    "    Args:\n",
    "        hdia (str | list[str]): Horário de um dia\n",
    "    \n",
    "    Returns:\n",
    "        float: Bônus por aula dupla\n",
    "    \"\"\"\n",
    "    bonus: float = 0.00\n",
    "    ultima: str = ''\n",
    "    i: int = 0\n",
    "    \n",
    "    for aula in hdia:\n",
    "        if aula == ultima:\n",
    "            if i <= 1:\n",
    "                bonus += 0.01\n",
    "            else:\n",
    "                bonus -= 1.01\n",
    "                \n",
    "            i+=1\n",
    "            \n",
    "        else:\n",
    "            i = 0\n",
    "            \n",
    "        ultima = aula\n",
    "        \n",
    "    return round(bonus, 2)\n",
    "\n",
    "bonus_aula_dupla('AAABAA')"
   ]
  },
  {
   "cell_type": "code",
   "execution_count": 8,
   "metadata": {},
   "outputs": [
    {
     "data": {
      "text/plain": [
       "155.91000000000003"
      ]
     },
     "execution_count": 8,
     "metadata": {},
     "output_type": "execute_result"
    }
   ],
   "source": [
    "def validar_restricoes(horario: str) -> int:\n",
    "    \"\"\" Verifica se o horário atende as restrições\"\"\"\n",
    "    # TODO:  Somar a distância entre o horário esperado x horário anotado pois incentiva mais a aproximação do horário esperado\n",
    "    \n",
    "    nota_restricoes: int = 0\n",
    "    for turma in separar_turmas(horario):\n",
    "        nota_restricoes+= quantidade_aulas(turma)\n",
    "        for d, dia in enumerate(separar_dias(turma)):\n",
    "            if any (dia.count(aula) > 3 for aula in dia):\n",
    "                nota_restricoes += 1\n",
    "            nota_restricoes -= bonus_aula_dupla(dia)\n",
    "            \n",
    "            # Verifica se o horário da aula de inglês é após as 10:50\n",
    "            if 'I' in dia and dia.find('I', 4) >= 4:\n",
    "                nota_restricoes += dia.find('I', 4)\n",
    "            \n",
    "            # Verifica se tem aula de inglês\n",
    "            if 'I' not in dia:\n",
    "                nota_restricoes += 1\n",
    "            \n",
    "            # Verifica se o horário de História é após as 10:50\n",
    "            if 'H' in dia and dia.find('H', 4) >= 4:\n",
    "                nota_restricoes += dia.find('H', 4)\n",
    "                \n",
    "            # Verifica se o horário de Geografia é após as 10:50\n",
    "            if 'G' in dia and dia.find('G', 4) >= 4:\n",
    "                nota_restricoes += dia.find('G', 4)\n",
    "                \n",
    "            # Verifica se o horário de Educação Física é antes das 9:10\n",
    "            if 'E' in dia and dia.find('E', 0, 2) <= 1 and dia.find('E', 0, 2) != -1:\n",
    "                nota_restricoes += 1\n",
    "                \n",
    "            # Verifica se o dia da educação física não é sexta-feira\n",
    "            if 'E' in dia and d != 4:\n",
    "                nota_restricoes += 1\n",
    "                \n",
    "            # Verifica se o dia de Artes é segunda-feira, terça-feira ou sexta-feira\n",
    "            if 'A' in dia and d not in [0, 1, 4]:\n",
    "                nota_restricoes += sum(1 for aula in dia if aula == 'A')\n",
    "            \n",
    "            # Verifica se o dia de Música é segunda-feira, terça-feira ou sexta-feira\n",
    "            if 'U' in dia and d not in [0, 1, 4]:\n",
    "                nota_restricoes += sum(1 for aula in dia if aula == 'U')\n",
    "\n",
    "    return nota_restricoes\n",
    "\n",
    "validar_restricoes(case)"
   ]
  },
  {
   "cell_type": "code",
   "execution_count": 9,
   "metadata": {},
   "outputs": [
    {
     "data": {
      "text/plain": [
       "22"
      ]
     },
     "execution_count": 9,
     "metadata": {},
     "output_type": "execute_result"
    }
   ],
   "source": [
    "def validar_sobreposicoes(strings: list[str]) -> int:\n",
    "    strings = [string.replace('T', 'M').replace('F', 'M')\\\n",
    "                .replace('G', 'H')\\\n",
    "                .replace('A', 'U') for string in strings]\n",
    "    \n",
    "    chars = set(list(''.join(strings)))\n",
    "    positions = {char: {num: {} for num in range(5)} for char in chars}\n",
    "    nota_sobreposicoes: int = 0\n",
    "    \n",
    "    for i, turma in enumerate(strings):\n",
    "        for j, dia in enumerate(separar_dias(turma)):\n",
    "            for k, aula in enumerate(dia):\n",
    "                if positions[aula][j] and k not in positions[aula][j]:\n",
    "                    positions[aula][j].add(k)\n",
    "                elif positions[aula][j] and k in positions[aula][j]:\n",
    "                    nota_sobreposicoes += 1\n",
    "                else:\n",
    "                    positions[aula][j] = {k}\n",
    "    \n",
    "    return nota_sobreposicoes\n",
    "\n",
    "\n",
    "validar_sobreposicoes(separar_turmas(case))"
   ]
  },
  {
   "cell_type": "code",
   "execution_count": 10,
   "metadata": {},
   "outputs": [
    {
     "data": {
      "text/plain": [
       "245.91"
      ]
     },
     "execution_count": 10,
     "metadata": {},
     "output_type": "execute_result"
    }
   ],
   "source": [
    "def fitting(horario: str, requisitos: dict = REQUISITOS) -> int:\n",
    "    \"\"\" Função de fitness\"\"\"\n",
    "    \n",
    "    return round((quantidade_aulas(horario, 4, requisitos) + validar_restricoes(horario) + validar_sobreposicoes(separar_turmas(horario))), 2)\n",
    "\n",
    "fitting(case, REQUISITOS)"
   ]
  },
  {
   "cell_type": "markdown",
   "metadata": {},
   "source": [
    "# Export"
   ]
  },
  {
   "cell_type": "code",
   "execution_count": 11,
   "metadata": {},
   "outputs": [],
   "source": [
    "raw: str = f'{globals()['_ih'][1]}{'\\n'*3}' + f'REQUISITOS: dict = {REQUISITOS}{'\\n'*3}' + f'{'\\n'*2}'.join([inspect.getsource(f) for f in [separar_turmas, separar_dias, quantidade_aulas, bonus_aula_dupla, validar_restricoes, validar_sobreposicoes, fitting]])"
   ]
  },
  {
   "cell_type": "code",
   "execution_count": 12,
   "metadata": {},
   "outputs": [],
   "source": [
    "with open('fitting_function.py', 'w', encoding='utf-8') as f:\n",
    "    f.write(raw)"
   ]
  },
  {
   "cell_type": "markdown",
   "metadata": {},
   "source": [
    "# Test"
   ]
  },
  {
   "cell_type": "code",
   "execution_count": 13,
   "metadata": {},
   "outputs": [
    {
     "data": {
      "text/plain": [
       "12.900000000000002"
      ]
     },
     "execution_count": 13,
     "metadata": {},
     "output_type": "execute_result"
    }
   ],
   "source": [
    "validar_restricoes(\n",
    "'LGILMCIMMMALHLILHMLGILCRUTFIEAILMUCTGLAICGMMLILRHILMHLMILEAFAILTLLMHIULALIGMCCIRHGMFLLIMMEGTGIAULILLMMIHMHMLRFMILCICEALL'\n",
    ")"
   ]
  },
  {
   "cell_type": "code",
   "execution_count": 14,
   "metadata": {},
   "outputs": [
    {
     "data": {
      "text/plain": [
       "['LGILMCIMMMALHLILHMLGILCRUTFIEA',\n",
       " 'ILMUCTGLAICGMMLILRHILMHLMILEAF',\n",
       " 'AILTLLMHIULALIGMCCIRHGMFLLIMME',\n",
       " 'GTGIAULILLMMIHMHMLRFMILCICEALL']"
      ]
     },
     "execution_count": 14,
     "metadata": {},
     "output_type": "execute_result"
    }
   ],
   "source": [
    "separar_turmas(\n",
    "    'LGILMCIMMMALHLILHMLGILCRUTFIEAILMUCTGLAICGMMLILRHILMHLMILEAFAILTLLMHIULALIGMCCIRHGMFLLIMMEGTGIAULILLMMIHMHMLRFMILCICEALL'\n",
    ")"
   ]
  },
  {
   "cell_type": "code",
   "execution_count": 15,
   "metadata": {},
   "outputs": [
    {
     "data": {
      "text/plain": [
       "0"
      ]
     },
     "execution_count": 15,
     "metadata": {},
     "output_type": "execute_result"
    }
   ],
   "source": [
    "validar_sobreposicoes(\n",
    "    separar_turmas('LGILMCIMMMALHLILHMLGILCRUTFIEAILMUCTGLAICGMMLILRHILMHLMILEAFAILTLLMHIULALIGMCCIRHGMFLLIMMEGTGIAULILLMMIHMHMLRFMILCICEALL')\n",
    ")"
   ]
  },
  {
   "cell_type": "code",
   "execution_count": 16,
   "metadata": {},
   "outputs": [
    {
     "data": {
      "text/plain": [
       "-0.39"
      ]
     },
     "execution_count": 16,
     "metadata": {},
     "output_type": "execute_result"
    }
   ],
   "source": [
    "fitting(\n",
    "    'FIULLLMLLICCMILLTRGGIMMMHHEIAAHHIUMMGGIMMMLLIFRTILLLCCAAIELLLLLIAAUIGGLLHMMICCFTHIRLLIMMMEIMMMCCIMMUAAIHGGLLLITHLRILLLEF'\n",
    ")"
   ]
  },
  {
   "cell_type": "markdown",
   "metadata": {},
   "source": [
    "# Base benchmarking"
   ]
  },
  {
   "cell_type": "code",
   "execution_count": 32,
   "metadata": {},
   "outputs": [],
   "source": [
    "import cProfile"
   ]
  },
  {
   "cell_type": "code",
   "execution_count": 36,
   "metadata": {},
   "outputs": [
    {
     "name": "stdout",
     "output_type": "stream",
     "text": [
      "         75901 function calls (75885 primitive calls) in 0.040 seconds\n",
      "\n",
      "   Ordered by: standard name\n",
      "\n",
      "   ncalls  tottime  percall  cumtime  percall filename:lineno(function)\n",
      "      100    0.005    0.000    0.026    0.000 2043169107.py:1(validar_restricoes)\n",
      "      500    0.000    0.000    0.000    0.000 2043169107.py:39(<genexpr>)\n",
      "      800    0.000    0.000    0.000    0.000 2043169107.py:43(<genexpr>)\n",
      "    14000    0.003    0.000    0.005    0.000 2043169107.py:9(<genexpr>)\n",
      "     2000    0.001    0.000    0.002    0.000 268117936.py:1(bonus_aula_dupla)\n",
      "    99/91    0.001    0.000    0.035    0.000 275993939.py:1(fitting)\n",
      "      100    0.005    0.000    0.009    0.000 3152553181.py:1(validar_sobreposicoes)\n",
      "      500    0.001    0.000    0.009    0.000 3156616139.py:16(quantidade_aulas)\n",
      "     6500    0.003    0.000    0.004    0.000 3156616139.py:31(<genexpr>)\n",
      "      200    0.000    0.000    0.001    0.000 3318202369.py:1(separar_turmas)\n",
      "      800    0.004    0.000    0.005    0.000 539939073.py:1(separar_dias)\n",
      "      500    0.000    0.000    0.000    0.000 <frozen abc>:117(__instancecheck__)\n",
      "        2    0.000    0.000    0.000    0.000 <frozen abc>:121(__subclasscheck__)\n",
      "        4    0.000    0.000    0.000    0.000 <frozen importlib._bootstrap>:1390(_handle_fromlist)\n",
      "      500    0.001    0.000    0.003    0.000 __init__.py:595(__init__)\n",
      "      500    0.000    0.000    0.002    0.000 __init__.py:669(update)\n",
      "        1    0.000    0.000    0.015    0.015 _base.py:337(_invoke_callbacks)\n",
      "        1    0.000    0.000    0.015    0.015 _base.py:537(set_result)\n",
      "        1    0.000    0.000    0.000    0.000 asyncio.py:225(add_callback)\n",
      "        4    0.000    0.000    0.000    0.000 attrsettr.py:43(__getattr__)\n",
      "        4    0.000    0.000    0.000    0.000 attrsettr.py:66(_get_attr_opt)\n",
      "      2/1    0.000    0.000    0.015    0.015 base_events.py:1910(_run_once)\n",
      "        5    0.000    0.000    0.000    0.000 base_events.py:2005(get_debug)\n",
      "        3    0.000    0.000    0.000    0.000 base_events.py:539(_check_closed)\n",
      "        1    0.000    0.000    0.000    0.000 base_events.py:720(is_closed)\n",
      "        3    0.000    0.000    0.000    0.000 base_events.py:734(time)\n",
      "        2    0.000    0.000    0.000    0.000 base_events.py:785(call_soon)\n",
      "        3    0.000    0.000    0.000    0.000 base_events.py:814(_call_soon)\n",
      "        1    0.000    0.000    0.000    0.000 base_events.py:838(call_soon_threadsafe)\n",
      "        1    0.000    0.000    0.000    0.000 concurrent.py:182(future_set_result_unless_cancelled)\n",
      "        1    0.000    0.000    0.000    0.000 decorator.py:199(fix)\n",
      "       24    0.000    0.000    0.000    0.000 enum.py:1129(__new__)\n",
      "       57    0.000    0.000    0.000    0.000 enum.py:1544(_get_value)\n",
      "       13    0.000    0.000    0.000    0.000 enum.py:1551(__or__)\n",
      "        6    0.000    0.000    0.000    0.000 enum.py:1562(__and__)\n",
      "       24    0.000    0.000    0.000    0.000 enum.py:726(__call__)\n",
      "        3    0.000    0.000    0.000    0.000 events.py:36(__init__)\n",
      "        3    0.000    0.000    0.015    0.005 events.py:86(_run)\n",
      "        1    0.000    0.000    0.015    0.015 futures.py:394(_call_set_state)\n",
      "        4    0.000    0.000    0.000    0.000 inspect.py:2786(name)\n",
      "       10    0.000    0.000    0.000    0.000 inspect.py:2798(kind)\n",
      "        1    0.000    0.000    0.000    0.000 inspect.py:2878(__init__)\n",
      "        1    0.000    0.000    0.000    0.000 inspect.py:2886(args)\n",
      "        1    0.000    0.000    0.000    0.000 inspect.py:2909(kwargs)\n",
      "        1    0.000    0.000    0.000    0.000 inspect.py:2939(apply_defaults)\n",
      "        4    0.000    0.000    0.000    0.000 inspect.py:3079(parameters)\n",
      "        1    0.000    0.000    0.000    0.000 inspect.py:3123(_bind)\n",
      "        1    0.000    0.000    0.000    0.000 inspect.py:3262(bind)\n",
      "        1    0.000    0.000    0.000    0.000 ioloop.py:742(_run_callback)\n",
      "        1    0.000    0.000    0.000    0.000 iostream.py:157(_handle_event)\n",
      "        1    0.000    0.000    0.000    0.000 iostream.py:213(_is_master_process)\n",
      "        1    0.000    0.000    0.000    0.000 iostream.py:216(_check_mp_mode)\n",
      "        1    0.000    0.000    0.000    0.000 iostream.py:255(closed)\n",
      "        1    0.000    0.000    0.000    0.000 iostream.py:276(<lambda>)\n",
      "        1    0.000    0.000    0.000    0.000 iostream.py:278(_really_send)\n",
      "        1    0.000    0.000    0.015    0.015 kernelbase.py:302(poll_control_queue)\n",
      "        1    0.000    0.000    0.000    0.000 locks.py:224(clear)\n",
      "        3    0.000    0.000    0.000    0.000 queue.py:209(_qsize)\n",
      "        3    0.000    0.000    0.000    0.000 queue.py:97(empty)\n",
      "        1    0.000    0.000    0.000    0.000 queues.py:173(qsize)\n",
      "        1    0.000    0.000    0.000    0.000 queues.py:177(empty)\n",
      "        1    0.000    0.000    0.000    0.000 queues.py:186(put)\n",
      "        1    0.000    0.000    0.000    0.000 queues.py:209(put_nowait)\n",
      "        1    0.000    0.000    0.000    0.000 queues.py:225(get)\n",
      "        1    0.000    0.000    0.000    0.000 queues.py:256(get_nowait)\n",
      "        1    0.000    0.000    0.000    0.000 queues.py:309(_get)\n",
      "        1    0.000    0.000    0.000    0.000 queues.py:312(_put)\n",
      "        1    0.000    0.000    0.000    0.000 queues.py:317(__put_internal)\n",
      "        2    0.000    0.000    0.000    0.000 queues.py:322(_consume_expired)\n",
      "        1    0.000    0.000    0.000    0.000 queues.py:59(_set_timeout)\n",
      "        1    0.000    0.000    0.000    0.000 selector_events.py:126(_process_self_data)\n",
      "        1    0.000    0.000    0.000    0.000 selector_events.py:129(_read_from_self)\n",
      "        1    0.000    0.000    0.000    0.000 selector_events.py:141(_write_to_self)\n",
      "        2    0.000    0.000    0.000    0.000 selector_events.py:750(_process_events)\n",
      "      2/1    0.000    0.000    0.000    0.000 selectors.py:313(_select)\n",
      "      2/1    0.000    0.000    0.000    0.000 selectors.py:319(select)\n",
      "       12    0.000    0.000    0.000    0.000 socket.py:632(send)\n",
      "        1    0.000    0.000    0.000    0.000 socket.py:709(send_multipart)\n",
      "        1    0.000    0.000    0.000    0.000 socket.py:780(recv_multipart)\n",
      "        2    0.000    0.000    0.000    0.000 threading.py:299(__enter__)\n",
      "        3    0.000    0.000    0.000    0.000 threading.py:302(__exit__)\n",
      "        1    0.000    0.000    0.000    0.000 threading.py:311(_acquire_restore)\n",
      "        1    0.000    0.000    0.000    0.000 threading.py:394(notify)\n",
      "        1    0.000    0.000    0.000    0.000 threading.py:424(notify_all)\n",
      "        1    0.000    0.000    0.000    0.000 threading.py:627(clear)\n",
      "        4    0.000    0.000    0.000    0.000 traitlets.py:629(get)\n",
      "        4    0.000    0.000    0.000    0.000 traitlets.py:676(__get__)\n",
      "        2    0.000    0.000    0.000    0.000 typing.py:1212(__instancecheck__)\n",
      "        2    0.000    0.000    0.000    0.000 typing.py:1276(__hash__)\n",
      "        2    0.000    0.000    0.000    0.000 typing.py:1483(__subclasscheck__)\n",
      "        9    0.000    0.000    0.000    0.000 typing.py:2173(cast)\n",
      "        3    0.000    0.000    0.000    0.000 typing.py:392(inner)\n",
      "        4    0.000    0.000    0.000    0.000 zmqstream.py:529(receiving)\n",
      "        3    0.000    0.000    0.000    0.000 zmqstream.py:533(sending)\n",
      "        1    0.000    0.000    0.000    0.000 zmqstream.py:547(_run_callback)\n",
      "        1    0.000    0.000    0.000    0.000 zmqstream.py:574(_handle_events)\n",
      "        1    0.000    0.000    0.000    0.000 zmqstream.py:615(_handle_recv)\n",
      "        3    0.000    0.000    0.000    0.000 zmqstream.py:654(_rebuild_io_state)\n",
      "        3    0.000    0.000    0.000    0.000 zmqstream.py:677(_update_handler)\n",
      "        1    0.000    0.000    0.000    0.000 zmqstream.py:685(<lambda>)\n",
      "      500    0.000    0.000    0.000    0.000 {built-in method _abc._abc_instancecheck}\n",
      "        2    0.000    0.000    0.000    0.000 {built-in method _abc._abc_subclasscheck}\n",
      "        1    0.000    0.000    0.000    0.000 {built-in method _asyncio.get_running_loop}\n",
      "      500    0.001    0.000    0.001    0.000 {built-in method _collections._count_elements}\n",
      "        2    0.000    0.000    0.000    0.000 {built-in method _contextvars.copy_context}\n",
      "     6000    0.001    0.000    0.001    0.000 {built-in method builtins.abs}\n",
      "     2000    0.002    0.000    0.007    0.000 {built-in method builtins.any}\n",
      "        4    0.000    0.000    0.000    0.000 {built-in method builtins.getattr}\n",
      "        4    0.000    0.000    0.000    0.000 {built-in method builtins.hasattr}\n",
      "        2    0.000    0.000    0.000    0.000 {built-in method builtins.hash}\n",
      "  613/609    0.000    0.000    0.001    0.000 {built-in method builtins.isinstance}\n",
      "        2    0.000    0.000    0.000    0.000 {built-in method builtins.issubclass}\n",
      "        2    0.000    0.000    0.000    0.000 {built-in method builtins.iter}\n",
      "      212    0.000    0.000    0.000    0.000 {built-in method builtins.len}\n",
      "        4    0.000    0.000    0.000    0.000 {built-in method builtins.max}\n",
      "        1    0.000    0.000    0.000    0.000 {built-in method builtins.min}\n",
      "        6    0.000    0.000    0.000    0.000 {built-in method builtins.next}\n",
      "     2100    0.001    0.000    0.001    0.000 {built-in method builtins.round}\n",
      "     1100    0.001    0.000    0.006    0.000 {built-in method builtins.sum}\n",
      "        1    0.000    0.000    0.000    0.000 {built-in method nt.getpid}\n",
      "      2/1    0.000    0.000    0.000    0.000 {built-in method select.select}\n",
      "        3    0.000    0.000    0.000    0.000 {built-in method time.monotonic}\n",
      "        1    0.000    0.000    0.000    0.000 {method '__enter__' of '_thread.RLock' objects}\n",
      "        1    0.000    0.000    0.000    0.000 {method '__enter__' of '_thread.lock' objects}\n",
      "        1    0.000    0.000    0.000    0.000 {method '__exit__' of '_thread.RLock' objects}\n",
      "        5    0.000    0.000    0.000    0.000 {method '__exit__' of '_thread.lock' objects}\n",
      "        1    0.000    0.000    0.000    0.000 {method '_is_owned' of '_thread.RLock' objects}\n",
      "        1    0.000    0.000    0.000    0.000 {method 'acquire' of '_thread.lock' objects}\n",
      "     6000    0.001    0.000    0.001    0.000 {method 'add' of 'set' objects}\n",
      "        5    0.000    0.000    0.000    0.000 {method 'append' of 'collections.deque' objects}\n",
      "      804    0.000    0.000    0.000    0.000 {method 'append' of 'list' objects}\n",
      "        2    0.000    0.000    0.000    0.000 {method 'cancelled' of '_asyncio.Future' objects}\n",
      "    12000    0.002    0.000    0.002    0.000 {method 'count' of 'str' objects}\n",
      "        1    0.000    0.000    0.000    0.000 {method 'disable' of '_lsprof.Profiler' objects}\n",
      "        1    0.000    0.000    0.000    0.000 {method 'done' of '_asyncio.Future' objects}\n",
      "     4900    0.001    0.000    0.001    0.000 {method 'find' of 'str' objects}\n",
      "     6000    0.001    0.000    0.001    0.000 {method 'get' of 'dict' objects}\n",
      "        3    0.000    0.000    0.000    0.000 {method 'items' of 'mappingproxy' objects}\n",
      "     4100    0.001    0.000    0.001    0.000 {method 'join' of 'str' objects}\n",
      "        6    0.000    0.000    0.000    0.000 {method 'popleft' of 'collections.deque' objects}\n",
      "        2    0.000    0.000    0.000    0.000 {method 'recv' of '_socket.socket' objects}\n",
      "     1600    0.000    0.000    0.000    0.000 {method 'replace' of 'str' objects}\n",
      "        3    0.000    0.000    0.015    0.005 {method 'run' of '_contextvars.Context' objects}\n",
      "        1    0.000    0.000    0.000    0.000 {method 'send' of '_socket.socket' objects}\n",
      "        2    0.000    0.000    0.000    0.000 {method 'set_result' of '_asyncio.Future' objects}\n",
      "        4    0.000    0.000    0.000    0.000 {method 'upper' of 'str' objects}\n",
      "        1    0.000    0.000    0.000    0.000 {method 'values' of 'mappingproxy' objects}\n",
      "\n",
      "\n"
     ]
    }
   ],
   "source": [
    "def fit_multiple_elements():\n",
    "    for _ in range(100):\n",
    "        fitting('RLHMAAELLEGRATRACMLHTTRUILHILACAIGATIEMMMTAHLLICCTTRHUHALMTGHAGAIALCAAHELCGUHFHMRMURAFTRCGRACIEUIUITFHFEMEFEHIILGHLRIFRM')\n",
    "\n",
    "cProfile.run('fit_multiple_elements()')"
   ]
  },
  {
   "cell_type": "code",
   "execution_count": null,
   "metadata": {},
   "outputs": [
    {
     "name": "stdout",
     "output_type": "stream",
     "text": [
      "         757 function calls in 0.001 seconds\n",
      "\n",
      "   Ordered by: standard name\n",
      "\n",
      "   ncalls  tottime  percall  cumtime  percall filename:lineno(function)\n",
      "        1    0.000    0.000    0.000    0.000 2043169107.py:1(validar_restricoes)\n",
      "        5    0.000    0.000    0.000    0.000 2043169107.py:39(<genexpr>)\n",
      "        8    0.000    0.000    0.000    0.000 2043169107.py:43(<genexpr>)\n",
      "      140    0.000    0.000    0.000    0.000 2043169107.py:9(<genexpr>)\n",
      "       20    0.000    0.000    0.000    0.000 268117936.py:1(bonus_aula_dupla)\n",
      "        1    0.000    0.000    0.000    0.000 275993939.py:1(fitting)\n",
      "        1    0.000    0.000    0.000    0.000 3152553181.py:1(validar_sobreposicoes)\n",
      "        5    0.000    0.000    0.000    0.000 3156616139.py:16(quantidade_aulas)\n",
      "       65    0.000    0.000    0.000    0.000 3156616139.py:31(<genexpr>)\n",
      "        2    0.000    0.000    0.000    0.000 3318202369.py:1(separar_turmas)\n",
      "        8    0.000    0.000    0.000    0.000 539939073.py:1(separar_dias)\n",
      "        5    0.000    0.000    0.000    0.000 <frozen abc>:117(__instancecheck__)\n",
      "        1    0.000    0.000    0.000    0.000 <string>:1(<module>)\n",
      "        5    0.000    0.000    0.000    0.000 __init__.py:595(__init__)\n",
      "        5    0.000    0.000    0.000    0.000 __init__.py:669(update)\n",
      "        5    0.000    0.000    0.000    0.000 {built-in method _abc._abc_instancecheck}\n",
      "        5    0.000    0.000    0.000    0.000 {built-in method _collections._count_elements}\n",
      "       60    0.000    0.000    0.000    0.000 {built-in method builtins.abs}\n",
      "       20    0.000    0.000    0.000    0.000 {built-in method builtins.any}\n",
      "        1    0.000    0.000    0.001    0.001 {built-in method builtins.exec}\n",
      "        5    0.000    0.000    0.000    0.000 {built-in method builtins.isinstance}\n",
      "        2    0.000    0.000    0.000    0.000 {built-in method builtins.len}\n",
      "       21    0.000    0.000    0.000    0.000 {built-in method builtins.round}\n",
      "       11    0.000    0.000    0.000    0.000 {built-in method builtins.sum}\n",
      "       60    0.000    0.000    0.000    0.000 {method 'add' of 'set' objects}\n",
      "        8    0.000    0.000    0.000    0.000 {method 'append' of 'list' objects}\n",
      "      120    0.000    0.000    0.000    0.000 {method 'count' of 'str' objects}\n",
      "        1    0.000    0.000    0.000    0.000 {method 'disable' of '_lsprof.Profiler' objects}\n",
      "       49    0.000    0.000    0.000    0.000 {method 'find' of 'str' objects}\n",
      "       60    0.000    0.000    0.000    0.000 {method 'get' of 'dict' objects}\n",
      "       41    0.000    0.000    0.000    0.000 {method 'join' of 'str' objects}\n",
      "       16    0.000    0.000    0.000    0.000 {method 'replace' of 'str' objects}\n",
      "\n",
      "\n"
     ]
    }
   ],
   "source": [
    "cProfile.run('fitting(\\\"RLHMAAELLEGRATRACMLHTTRUILHILACAIGATIEMMMTAHLLICCTTRHUHALMTGHAGAIALCAAHELCGUHFHMRMURAFTRCGRACIEUIUITFHFEMEFEHIILGHLRIFRM\\\")')"
   ]
  }
 ],
 "metadata": {
  "kernelspec": {
   "display_name": ".venv",
   "language": "python",
   "name": "python3"
  },
  "language_info": {
   "codemirror_mode": {
    "name": "ipython",
    "version": 3
   },
   "file_extension": ".py",
   "mimetype": "text/x-python",
   "name": "python",
   "nbconvert_exporter": "python",
   "pygments_lexer": "ipython3",
   "version": "3.12.4"
  }
 },
 "nbformat": 4,
 "nbformat_minor": 2
}
