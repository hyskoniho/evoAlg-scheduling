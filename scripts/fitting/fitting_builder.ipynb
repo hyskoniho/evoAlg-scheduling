{
 "cells": [
  {
   "cell_type": "markdown",
   "metadata": {},
   "source": [
    "# Imports\n",
    "---"
   ]
  },
  {
   "cell_type": "code",
   "execution_count": 1,
   "metadata": {},
   "outputs": [],
   "source": [
    "import random, inspect\n",
    "from collections import Counter"
   ]
  },
  {
   "cell_type": "markdown",
   "metadata": {},
   "source": [
    "# Problem Definition\n",
    "---"
   ]
  },
  {
   "cell_type": "markdown",
   "metadata": {},
   "source": [
    "### Constraints"
   ]
  },
  {
   "cell_type": "code",
   "execution_count": 2,
   "metadata": {},
   "outputs": [],
   "source": [
    "# Minimum of classes to each class\n",
    "REQUIREMENTS = {\n",
    "    'M': 5, # Matemática \n",
    "    'T': 1, # Tecnologia (Mind Makers) \n",
    "    'F': 1, # Ed. Financeira \n",
    "    'L': 7, # Língua Portuguesa \n",
    "    'H': 2, # História \n",
    "    'G': 2, # Geografia \n",
    "    'R': 1, # Ensino Religioso \n",
    "    'A': 2, # Artes \n",
    "    'C': 2, # Ciências \n",
    "    'I': 5, # Inglês \n",
    "    'U': 1, # Música \n",
    "    'E': 1, # Educação Física \n",
    "}"
   ]
  },
  {
   "cell_type": "code",
   "execution_count": 3,
   "metadata": {},
   "outputs": [],
   "source": [
    "# Number of groups of students\n",
    "CLASSROOMS = 4"
   ]
  },
  {
   "cell_type": "code",
   "execution_count": 4,
   "metadata": {},
   "outputs": [],
   "source": [
    "# Professors that can teach more than one subject\n",
    "SIM_PROFESSORS = [\n",
    "    ('M', 'T', 'F'), # Matemática, Tecnologia e Ed. Financeira\n",
    "    ('H', 'G'), # História e Geografia\n",
    "    ('A', 'U') # Artes e Música\n",
    "]"
   ]
  },
  {
   "cell_type": "markdown",
   "metadata": {},
   "source": [
    "### Solution example"
   ]
  },
  {
   "cell_type": "code",
   "execution_count": 5,
   "metadata": {},
   "outputs": [
    {
     "data": {
      "text/plain": [
       "'EHCEEELRUTFLURCGICAUHTCCCCCTAGMMMEIFUETMILICEIFUAGITFUAGELUMMEHACFEGGUAUEFHEAMAGMUFCMCCFETHUGGEIAEAILFHIGULRTAHUTRHAITMM'"
      ]
     },
     "execution_count": 5,
     "metadata": {},
     "output_type": "execute_result"
    }
   ],
   "source": [
    "case: str = ''.join([random.choice(list(REQUIREMENTS.keys())) for _ in range(CLASSROOMS * sum(REQUIREMENTS.values()))])\n",
    "case"
   ]
  },
  {
   "cell_type": "markdown",
   "metadata": {},
   "source": [
    "# Utility functions\n",
    "---"
   ]
  },
  {
   "cell_type": "code",
   "execution_count": 6,
   "metadata": {},
   "outputs": [
    {
     "data": {
      "text/plain": [
       "['EHCEEELRUTFLURCGICAUHTCCCCCTAG',\n",
       " 'MMMEIFUETMILICEIFUAGITFUAGELUM',\n",
       " 'MEHACFEGGUAUEFHEAMAGMUFCMCCFET',\n",
       " 'HUGGEIAEAILFHIGULRTAHUTRHAITMM']"
      ]
     },
     "execution_count": 6,
     "metadata": {},
     "output_type": "execute_result"
    }
   ],
   "source": [
    "def separar_turmas(case: str, n: int = CLASSROOMS) -> list[str]:\n",
    "    \"\"\" Separa o horário em turmas\n",
    "    \n",
    "    Args:\n",
    "        case (str): Horário das aulas\n",
    "        n (int, optional): Quantidade de turmas.\n",
    "    \n",
    "    Returns:\n",
    "        list[str]: Lista de horários separados por turma\n",
    "    \"\"\"\n",
    "    tamanho_grupo: int = len(case) // n\n",
    "    turmas: list[str] = []\n",
    "    for i in range(n):\n",
    "        inicio = i * tamanho_grupo\n",
    "        fim = inicio + tamanho_grupo\n",
    "        turmas.append(case[inicio:fim])\n",
    "        \n",
    "    return turmas\n",
    "        \n",
    "separar_turmas(case)"
   ]
  },
  {
   "cell_type": "code",
   "execution_count": 7,
   "metadata": {},
   "outputs": [
    {
     "data": {
      "text/plain": [
       "['EHCEEE', 'LRUTFL', 'URCGIC', 'AUHTCC', 'CCCTAG']"
      ]
     },
     "execution_count": 7,
     "metadata": {},
     "output_type": "execute_result"
    }
   ],
   "source": [
    "def separar_dias(turma: str) -> list[list[str]]:\n",
    "    \"\"\" Separa a turma em dias\n",
    "    \n",
    "    Args:\n",
    "        turma (str): Horário de uma turma\n",
    "    \n",
    "    Returns:\n",
    "        list[list[str]]: Lista de horários separados por dia\n",
    "    \"\"\"\n",
    "    dias: list[list[str]] = [['' for _ in range(6)] for _ in range(5)]\n",
    "    \n",
    "    for i, aula in enumerate(turma):\n",
    "        dias[i // 6][i % 6] = aula\n",
    "    \n",
    "    return [''.join(dia) for dia in dias]\n",
    "\n",
    "separar_dias(separar_turmas(case)[0])"
   ]
  },
  {
   "cell_type": "code",
   "execution_count": 8,
   "metadata": {},
   "outputs": [
    {
     "data": {
      "text/plain": [
       "'EHCEEELRAMMLARCHICAAHMCCCCCMAHMMMEIMAEMMILICEIMAAHIMMAAHELAMMEHACMEHHAAAEMHEAMAHMAMCMCCMEMHAHHEIAEAILMHIHALRMAHAMRHAIMMM'"
      ]
     },
     "execution_count": 8,
     "metadata": {},
     "output_type": "execute_result"
    }
   ],
   "source": [
    "def sintetizar_professores(case: str, sp: list[tuple[str]] = SIM_PROFESSORS) -> str:\n",
    "    for p in sp:\n",
    "        for c in p:\n",
    "            case: str = case.replace(c, p[0])\n",
    "    return case\n",
    "\n",
    "sintetizar_professores(case)"
   ]
  },
  {
   "cell_type": "markdown",
   "metadata": {},
   "source": [
    "# Avaliação"
   ]
  },
  {
   "cell_type": "code",
   "execution_count": 9,
   "metadata": {},
   "outputs": [
    {
     "data": {
      "text/plain": [
       "28"
      ]
     },
     "execution_count": 9,
     "metadata": {},
     "output_type": "execute_result"
    }
   ],
   "source": [
    "def quantidade_aulas(case: str, n: int, r: dict = REQUIREMENTS) -> int:\n",
    "    \"\"\" Verifica se o horário tem a quantidade de aulas necessárias \n",
    "    \n",
    "    Args:\n",
    "        case (str): Horário das aulas\n",
    "        r (dict): Requisitos de aulas por matéria\n",
    "    \n",
    "    Returns:\n",
    "        int: Quantidade de aulas faltantes ou excedentes\n",
    "    \"\"\"\n",
    "    \n",
    "    # Conta a quantidade de aulas de cada matéria no horário especificado\n",
    "    c: Counter = Counter(case)\n",
    "    # e.g. {'M': 28, 'L': 28, 'H': 16, 'C': 8, 'R': 4, 'I': 20, 'F': 4}\n",
    "\n",
    "    nota_quantidade: int =  sum( # Somatório\n",
    "        abs( # Valor absoluto para obter a diferença entre a quantidade de aulas esperada e a quantidade de aulas no horário\n",
    "            (r[materia]*n) - c.get(materia, 0) # Quantidade esperada daquela matéria - Quantidade de aulas daquela matéria no horário\n",
    "        ) \\\n",
    "            for materia in r # Aplica a operação para cada matéria, e soma o resultado\n",
    "    )\n",
    "    \n",
    "    return nota_quantidade\n",
    "\n",
    "quantidade_aulas(separar_turmas(case)[0], n=1)"
   ]
  },
  {
   "cell_type": "code",
   "execution_count": 10,
   "metadata": {},
   "outputs": [
    {
     "data": {
      "text/plain": [
       "0.0"
      ]
     },
     "execution_count": 10,
     "metadata": {},
     "output_type": "execute_result"
    }
   ],
   "source": [
    "def bonus_aula_dupla(hdia: str) -> float:\n",
    "    \"\"\" Verifica se há aulas duplas\n",
    "    \n",
    "    Args:\n",
    "        hdia (str | list[str]): Horário de um dia\n",
    "    \n",
    "    Returns:\n",
    "        float: Bônus por aula dupla\n",
    "    \"\"\"\n",
    "    bonus: float = 0.00\n",
    "    ultima: str = ''\n",
    "    i: int = 0\n",
    "    \n",
    "    for aula in hdia:\n",
    "        if aula == ultima:\n",
    "            if i <= 1:\n",
    "                bonus += 0.01\n",
    "            else:\n",
    "                bonus -= 1.01\n",
    "                \n",
    "            i+=1\n",
    "            \n",
    "        else:\n",
    "            i = 0\n",
    "            \n",
    "        ultima: str = aula\n",
    "        \n",
    "    return round(bonus, 2)\n",
    "\n",
    "bonus_aula_dupla('ABCDEFG')"
   ]
  },
  {
   "cell_type": "code",
   "execution_count": 11,
   "metadata": {},
   "outputs": [
    {
     "data": {
      "text/plain": [
       "156.89000000000001"
      ]
     },
     "execution_count": 11,
     "metadata": {},
     "output_type": "execute_result"
    }
   ],
   "source": [
    "def validar_restricoes(cases: list[str]) -> float:\n",
    "    \"\"\" Verifica se o horário atende as restrições\"\"\"\n",
    "    # TODO:  Somar a distância entre o horário esperado x horário anotado pois incentiva mais a aproximação do horário esperado\n",
    "    \n",
    "    nota_restricoes: float = 0.00\n",
    "    for turma in cases:\n",
    "        nota_restricoes+= quantidade_aulas(turma, n=1)\n",
    "        for d, dia in enumerate(separar_dias(turma)):\n",
    "            if any (dia.count(aula) > 3 for aula in dia):\n",
    "                nota_restricoes += 1\n",
    "            nota_restricoes -= bonus_aula_dupla(dia)\n",
    "            \n",
    "            # Verifica se o horário da aula de inglês é após as 10:50\n",
    "            if 'I' in dia and dia.find('I', 4) >= 4:\n",
    "                nota_restricoes += dia.find('I', 4)\n",
    "            \n",
    "            # Verifica se tem aula de inglês\n",
    "            if 'I' not in dia:\n",
    "                nota_restricoes += 1\n",
    "            \n",
    "            # Verifica se o horário de História é após as 10:50\n",
    "            if 'H' in dia and dia.find('H', 4) >= 4:\n",
    "                nota_restricoes += dia.find('H', 4)\n",
    "                \n",
    "            # Verifica se o horário de Geografia é após as 10:50\n",
    "            if 'G' in dia and dia.find('G', 4) >= 4:\n",
    "                nota_restricoes += dia.find('G', 4)\n",
    "                \n",
    "            # Verifica se o horário de Educação Física é antes das 9:10\n",
    "            if 'E' in dia and dia.find('E', 0, 2) <= 1 and dia.find('E', 0, 2) != -1:\n",
    "                nota_restricoes += 1\n",
    "                \n",
    "            # Verifica se o dia da educação física não é sexta-feira\n",
    "            if 'E' in dia and d != 4:\n",
    "                nota_restricoes += 1\n",
    "                \n",
    "            # Verifica se o dia de Artes é segunda-feira, terça-feira ou sexta-feira\n",
    "            if 'A' in dia and d not in [0, 1, 4]:\n",
    "                nota_restricoes += sum(1 for aula in dia if aula == 'A')\n",
    "            \n",
    "            # Verifica se o dia de Música é segunda-feira, terça-feira ou sexta-feira\n",
    "            if 'U' in dia and d not in [0, 1, 4]:\n",
    "                nota_restricoes += sum(1 for aula in dia if aula == 'U')\n",
    "\n",
    "    return nota_restricoes\n",
    "\n",
    "validar_restricoes(separar_turmas(case))"
   ]
  },
  {
   "cell_type": "code",
   "execution_count": 12,
   "metadata": {},
   "outputs": [
    {
     "data": {
      "text/plain": [
       "18"
      ]
     },
     "execution_count": 12,
     "metadata": {},
     "output_type": "execute_result"
    }
   ],
   "source": [
    "def validar_sobreposicoes(strings: list[str]) -> int:    \n",
    "    chars: set = set(list(''.join(strings)))\n",
    "    positions: dict = {char: {num: {} for num in range(5)} for char in chars}\n",
    "    nota_sobreposicoes: int = 0\n",
    "    \n",
    "    for turma in strings:\n",
    "        for j, dia in enumerate(separar_dias(turma)):\n",
    "            for k, aula in enumerate(dia):\n",
    "                if positions[aula][j] and k not in positions[aula][j]:\n",
    "                    positions[aula][j].add(k)\n",
    "                elif positions[aula][j] and k in positions[aula][j]:\n",
    "                    nota_sobreposicoes += 1\n",
    "                else:\n",
    "                    positions[aula][j] = {k}\n",
    "    \n",
    "    return nota_sobreposicoes\n",
    "\n",
    "\n",
    "validar_sobreposicoes(separar_turmas(case))"
   ]
  },
  {
   "cell_type": "code",
   "execution_count": 13,
   "metadata": {},
   "outputs": [
    {
     "data": {
      "text/plain": [
       "184.89"
      ]
     },
     "execution_count": 13,
     "metadata": {},
     "output_type": "execute_result"
    }
   ],
   "source": [
    "def fitting(case: str) -> float:\n",
    "    \"\"\" Função de fitness\"\"\"\n",
    "    cases: list[str] = separar_turmas(case)\n",
    "    return round((validar_restricoes(cases) + validar_sobreposicoes([sintetizar_professores(t) for t in cases])), 2)\n",
    "\n",
    "fitting(case)"
   ]
  },
  {
   "cell_type": "markdown",
   "metadata": {},
   "source": [
    "# Test the fitting\n",
    "---"
   ]
  },
  {
   "cell_type": "code",
   "execution_count": null,
   "metadata": {},
   "outputs": [
    {
     "data": {
      "text/plain": [
       "12.900000000000002"
      ]
     },
     "metadata": {},
     "output_type": "display_data"
    }
   ],
   "source": [
    "validar_restricoes(\n",
    "    separar_turmas('LGILMCIMMMALHLILHMLGILCRUTFIEAILMUCTGLAICGMMLILRHILMHLMILEAFAILTLLMHIULALIGMCCIRHGMFLLIMMEGTGIAULILLMMIHMHMLRFMILCICEALL')\n",
    ")"
   ]
  },
  {
   "cell_type": "code",
   "execution_count": null,
   "metadata": {},
   "outputs": [
    {
     "data": {
      "text/plain": [
       "['LGILMCIMMMALHLILHMLGILCRUTFIEA',\n",
       " 'ILMUCTGLAICGMMLILRHILMHLMILEAF',\n",
       " 'AILTLLMHIULALIGMCCIRHGMFLLIMME',\n",
       " 'GTGIAULILLMMIHMHMLRFMILCICEALL']"
      ]
     },
     "metadata": {},
     "output_type": "display_data"
    }
   ],
   "source": [
    "separar_turmas(\n",
    "    'LGILMCIMMMALHLILHMLGILCRUTFIEAILMUCTGLAICGMMLILRHILMHLMILEAFAILTLLMHIULALIGMCCIRHGMFLLIMMEGTGIAULILLMMIHMHMLRFMILCICEALL'\n",
    ")"
   ]
  },
  {
   "cell_type": "code",
   "execution_count": null,
   "metadata": {},
   "outputs": [
    {
     "data": {
      "text/plain": [
       "0"
      ]
     },
     "metadata": {},
     "output_type": "display_data"
    }
   ],
   "source": [
    "validar_sobreposicoes(\n",
    "    separar_turmas('LGILMCIMMMALHLILHMLGILCRUTFIEAILMUCTGLAICGMMLILRHILMHLMILEAFAILTLLMHIULALIGMCCIRHGMFLLIMMEGTGIAULILLMMIHMHMLRFMILCICEALL')\n",
    ")"
   ]
  },
  {
   "cell_type": "code",
   "execution_count": null,
   "metadata": {},
   "outputs": [
    {
     "data": {
      "text/plain": [
       "-0.39"
      ]
     },
     "metadata": {},
     "output_type": "display_data"
    }
   ],
   "source": [
    "fitting(\n",
    "    'FIULLLMLLICCMILLTRGGIMMMHHEIAAHHIUMMGGIMMMLLIFRTILLLCCAAIELLLLLIAAUIGGLLHMMICCFTHIRLLIMMMEIMMMCCIMMUAAIHGGLLLITHLRILLLEF'\n",
    ")"
   ]
  },
  {
   "cell_type": "markdown",
   "metadata": {},
   "source": [
    "# Exporting the fitting function\n",
    "---"
   ]
  },
  {
   "cell_type": "markdown",
   "metadata": {},
   "source": [
    "### Build the whole text code"
   ]
  },
  {
   "cell_type": "code",
   "execution_count": 14,
   "metadata": {},
   "outputs": [],
   "source": [
    "raw: str = f'{globals()['_ih'][1]}{'\\n'*3}'\\\n",
    "        + f'REQUIREMENTS = {REQUIREMENTS}{'\\n'*3}'\\\n",
    "        + f'CLASSROOMS = {CLASSROOMS}{'\\n'*3}'\\\n",
    "        + f'SIM_PROFESSORS = {SIM_PROFESSORS}{'\\n'*3}'\\\n",
    "        + f'{'\\n'*2}'.join([inspect.getsource(f) for f in [separar_turmas, separar_dias, sintetizar_professores, quantidade_aulas, bonus_aula_dupla, validar_restricoes, validar_sobreposicoes, fitting]])"
   ]
  },
  {
   "cell_type": "markdown",
   "metadata": {},
   "source": [
    "### Writes it on a .py file"
   ]
  },
  {
   "cell_type": "code",
   "execution_count": 15,
   "metadata": {},
   "outputs": [],
   "source": [
    "with open('fitting_function.py', 'w', encoding='utf-8') as f:\n",
    "    f.write(raw)"
   ]
  },
  {
   "cell_type": "markdown",
   "metadata": {},
   "source": [
    "### Compile it on C"
   ]
  },
  {
   "cell_type": "code",
   "execution_count": 16,
   "metadata": {},
   "outputs": [
    {
     "ename": "Warning",
     "evalue": "It must be strongly typed, tested, and you must use C++ for this!",
     "output_type": "error",
     "traceback": [
      "\u001b[1;31m---------------------------------------------------------------------------\u001b[0m",
      "\u001b[1;31mWarning\u001b[0m                                   Traceback (most recent call last)",
      "Cell \u001b[1;32mIn[16], line 1\u001b[0m\n\u001b[1;32m----> 1\u001b[0m \u001b[38;5;28;01mraise\u001b[39;00m \u001b[38;5;167;01mWarning\u001b[39;00m(\u001b[38;5;124m\"\u001b[39m\u001b[38;5;124mIt must be strongly typed, tested, and you must use C++ for this!\u001b[39m\u001b[38;5;124m\"\u001b[39m)\n",
      "\u001b[1;31mWarning\u001b[0m: It must be strongly typed, tested, and you must use C++ for this!"
     ]
    }
   ],
   "source": [
    "raise Warning(\"It must be strongly typed, tested, and you must use C++ for this!\")"
   ]
  },
  {
   "cell_type": "code",
   "execution_count": 26,
   "metadata": {},
   "outputs": [],
   "source": [
    "with open('fitting_function.pyx', 'w', encoding='utf-8') as f:\n",
    "    f.write(raw)"
   ]
  },
  {
   "cell_type": "code",
   "execution_count": null,
   "metadata": {},
   "outputs": [
    {
     "name": "stdout",
     "output_type": "stream",
     "text": [
      "Compiling .\\fitting_function.pyx because it changed.\n",
      "[1/1] Cythonizing .\\fitting_function.pyx\n"
     ]
    },
    {
     "name": "stderr",
     "output_type": "stream",
     "text": [
      "c:\\Users\\Arklok\\Documents\\Projetos\\evoAlg-scheduling\\.venv\\Lib\\site-packages\\Cython\\Compiler\\Main.py:381: FutureWarning: Cython directive 'language_level' not set, using '3str' for now (Py3). This has changed from earlier releases! File: c:\\Users\\Arklok\\Documents\\Projetos\\evoAlg-scheduling\\scripts\\Fitting\\fitting_function.pyx\n",
      "  tree = Parsing.p_module(s, pxd, full_module_name)\n"
     ]
    }
   ],
   "source": [
    "try:import c_setup\n",
    "except:pass"
   ]
  },
  {
   "cell_type": "code",
   "execution_count": null,
   "metadata": {},
   "outputs": [
    {
     "name": "stdout",
     "output_type": "stream",
     "text": [
      "running build_ext\n",
      "building 'cython_fitting_function' extension\n",
      "creating build\\temp.win-amd64-cpython-312\\Release\n",
      "\"C:\\Program Files (x86)\\Microsoft Visual Studio\\2022\\BuildTools\\VC\\Tools\\MSVC\\14.43.34808\\bin\\HostX86\\x64\\cl.exe\" /c /nologo /O2 /W3 /GL /DNDEBUG /MD -Ic:\\Users\\Arklok\\Documents\\Projetos\\evoAlg-scheduling\\.venv\\include -IC:\\ProgramData\\anaconda3\\include -IC:\\ProgramData\\anaconda3\\Include \"-IC:\\Program Files (x86)\\Microsoft Visual Studio\\2022\\BuildTools\\VC\\Tools\\MSVC\\14.43.34808\\include\" \"-IC:\\Program Files (x86)\\Microsoft Visual Studio\\2022\\BuildTools\\VC\\Auxiliary\\VS\\include\" \"-IC:\\Program Files (x86)\\Windows Kits\\10\\include\\10.0.26100.0\\ucrt\" \"-IC:\\Program Files (x86)\\Windows Kits\\10\\\\include\\10.0.26100.0\\\\um\" \"-IC:\\Program Files (x86)\\Windows Kits\\10\\\\include\\10.0.26100.0\\\\shared\" \"-IC:\\Program Files (x86)\\Windows Kits\\10\\\\include\\10.0.26100.0\\\\winrt\" \"-IC:\\Program Files (x86)\\Windows Kits\\10\\\\include\\10.0.26100.0\\\\cppwinrt\" /Tc.\\fitting_function.c /Fobuild\\temp.win-amd64-cpython-312\\Release\\fitting_function.obj\n",
      "fitting_function.c\n",
      ".\\fitting_function.c(10781): warning C4244: '=': convers�o de 'Py_ssize_t' para 'long', poss�vel perda de dados\n",
      ".\\fitting_function.c(10920): warning C4244: '=': convers�o de 'Py_ssize_t' para 'long', poss�vel perda de dados\n",
      ".\\fitting_function.c(11195): warning C4244: '=': convers�o de 'Py_ssize_t' para 'long', poss�vel perda de dados\n",
      "\"C:\\Program Files (x86)\\Microsoft Visual Studio\\2022\\BuildTools\\VC\\Tools\\MSVC\\14.43.34808\\bin\\HostX86\\x64\\link.exe\" /nologo /INCREMENTAL:NO /LTCG /DLL /MANIFEST:EMBED,ID=2 /MANIFESTUAC:NO /LIBPATH:c:\\Users\\Arklok\\Documents\\Projetos\\evoAlg-scheduling\\.venv\\libs /LIBPATH:C:\\ProgramData\\anaconda3\\libs /LIBPATH:C:\\ProgramData\\anaconda3 /LIBPATH:c:\\Users\\Arklok\\Documents\\Projetos\\evoAlg-scheduling\\.venv\\PCbuild\\amd64 \"/LIBPATH:C:\\Program Files (x86)\\Microsoft Visual Studio\\2022\\BuildTools\\VC\\Tools\\MSVC\\14.43.34808\\lib\\x64\" \"/LIBPATH:C:\\Program Files (x86)\\Windows Kits\\10\\lib\\10.0.26100.0\\ucrt\\x64\" \"/LIBPATH:C:\\Program Files (x86)\\Windows Kits\\10\\\\lib\\10.0.26100.0\\\\um\\x64\" /EXPORT:PyInit_cython_fitting_function build\\temp.win-amd64-cpython-312\\Release\\fitting_function.obj /OUT:c:\\Users\\Arklok\\Documents\\Projetos\\evoAlg-scheduling\\scripts\\Fitting\\cython_fitting_function.cp312-win_amd64.pyd /IMPLIB:build\\temp.win-amd64-cpython-312\\Release\\cython_fitting_function.cp312-win_amd64.lib\n",
      "   Criando biblioteca build\\temp.win-amd64-cpython-312\\Release\\cython_fitting_function.cp312-win_amd64.lib e objeto build\\temp.win-amd64-cpython-312\\Release\\cython_fitting_function.cp312-win_amd64.exp\n",
      "Gerando c�digo\n",
      "Finalizada a gera��o de c�digo\n"
     ]
    }
   ],
   "source": [
    "!python c_setup.py build_ext --inplace"
   ]
  },
  {
   "cell_type": "markdown",
   "metadata": {},
   "source": [
    "# Base benchmarking\n",
    "---"
   ]
  },
  {
   "cell_type": "code",
   "execution_count": 33,
   "metadata": {},
   "outputs": [],
   "source": [
    "import cProfile"
   ]
  },
  {
   "cell_type": "code",
   "execution_count": 34,
   "metadata": {},
   "outputs": [
    {
     "name": "stdout",
     "output_type": "stream",
     "text": [
      "         71928 function calls (71927 primitive calls) in 0.037 seconds\n",
      "\n",
      "   Ordered by: standard name\n",
      "\n",
      "   ncalls  tottime  percall  cumtime  percall filename:lineno(function)\n",
      "        1    0.000    0.000    0.010    0.010 1277134286.py:1(fit_multiple_elements)\n",
      "      100    0.001    0.000    0.036    0.000 1315424239.py:1(fitting)\n",
      "     2000    0.001    0.000    0.002    0.000 2493205983.py:1(bonus_aula_dupla)\n",
      "      100    0.005    0.000    0.025    0.000 3955615743.py:1(validar_restricoes)\n",
      "      500    0.000    0.000    0.000    0.000 3955615743.py:39(<genexpr>)\n",
      "      800    0.000    0.000    0.000    0.000 3955615743.py:43(<genexpr>)\n",
      "    14000    0.003    0.000    0.005    0.000 3955615743.py:9(<genexpr>)\n",
      "      400    0.001    0.000    0.001    0.000 4013231299.py:1(sintetizar_professores)\n",
      "      100    0.000    0.000    0.000    0.000 4094661476.py:1(separar_turmas)\n",
      "      400    0.001    0.000    0.007    0.000 636192225.py:1(quantidade_aulas)\n",
      "     5200    0.002    0.000    0.003    0.000 636192225.py:16(<genexpr>)\n",
      "      800    0.004    0.000    0.005    0.000 717496282.py:1(separar_dias)\n",
      "      100    0.005    0.000    0.008    0.000 920554843.py:1(validar_sobreposicoes)\n",
      "      400    0.000    0.000    0.000    0.000 <frozen abc>:117(__instancecheck__)\n",
      "        1    0.000    0.000    0.036    0.036 <string>:1(<module>)\n",
      "      400    0.001    0.000    0.002    0.000 __init__.py:595(__init__)\n",
      "      400    0.000    0.000    0.002    0.000 __init__.py:669(update)\n",
      "        2    0.000    0.000    0.000    0.000 enum.py:1129(__new__)\n",
      "        6    0.000    0.000    0.000    0.000 enum.py:1544(_get_value)\n",
      "        2    0.000    0.000    0.000    0.000 enum.py:1551(__or__)\n",
      "        2    0.000    0.000    0.000    0.000 enum.py:726(__call__)\n",
      "        1    0.000    0.000    0.000    0.000 socket.py:632(send)\n",
      "      400    0.000    0.000    0.000    0.000 {built-in method _abc._abc_instancecheck}\n",
      "      400    0.001    0.000    0.001    0.000 {built-in method _collections._count_elements}\n",
      "     4800    0.000    0.000    0.000    0.000 {built-in method builtins.abs}\n",
      "     2000    0.002    0.000    0.007    0.000 {built-in method builtins.any}\n",
      "      2/1    0.000    0.000    0.036    0.036 {built-in method builtins.exec}\n",
      "      410    0.000    0.000    0.001    0.000 {built-in method builtins.isinstance}\n",
      "      100    0.000    0.000    0.000    0.000 {built-in method builtins.len}\n",
      "     2100    0.001    0.000    0.001    0.000 {built-in method builtins.round}\n",
      "     1000    0.001    0.000    0.005    0.000 {built-in method builtins.sum}\n",
      "     6000    0.001    0.000    0.001    0.000 {method 'add' of 'set' objects}\n",
      "      400    0.000    0.000    0.000    0.000 {method 'append' of 'list' objects}\n",
      "    12000    0.002    0.000    0.002    0.000 {method 'count' of 'str' objects}\n",
      "        1    0.000    0.000    0.000    0.000 {method 'disable' of '_lsprof.Profiler' objects}\n",
      "     4900    0.001    0.000    0.001    0.000 {method 'find' of 'str' objects}\n",
      "     4800    0.001    0.000    0.001    0.000 {method 'get' of 'dict' objects}\n",
      "     4100    0.001    0.000    0.001    0.000 {method 'join' of 'str' objects}\n",
      "     2800    0.001    0.000    0.001    0.000 {method 'replace' of 'str' objects}\n",
      "\n",
      "\n"
     ]
    }
   ],
   "source": [
    "def fit_multiple_elements():\n",
    "    for _ in range(100):\n",
    "        fitting('RLHMAAELLEGRATRACMLHTTRUILHILACAIGATIEMMMTAHLLICCTTRHUHALMTGHAGAIALCAAHELCGUHFHMRMURAFTRCGRACIEUIUITFHFEMEFEHIILGHLRIFRM')\n",
    "\n",
    "cProfile.run('fit_multiple_elements()')"
   ]
  },
  {
   "cell_type": "code",
   "execution_count": 35,
   "metadata": {},
   "outputs": [
    {
     "name": "stdout",
     "output_type": "stream",
     "text": [
      "         722 function calls in 0.001 seconds\n",
      "\n",
      "   Ordered by: standard name\n",
      "\n",
      "   ncalls  tottime  percall  cumtime  percall filename:lineno(function)\n",
      "        1    0.000    0.000    0.001    0.001 1315424239.py:1(fitting)\n",
      "       20    0.000    0.000    0.000    0.000 2493205983.py:1(bonus_aula_dupla)\n",
      "        1    0.000    0.000    0.000    0.000 3955615743.py:1(validar_restricoes)\n",
      "        5    0.000    0.000    0.000    0.000 3955615743.py:39(<genexpr>)\n",
      "        8    0.000    0.000    0.000    0.000 3955615743.py:43(<genexpr>)\n",
      "      140    0.000    0.000    0.000    0.000 3955615743.py:9(<genexpr>)\n",
      "        4    0.000    0.000    0.000    0.000 4013231299.py:1(sintetizar_professores)\n",
      "        1    0.000    0.000    0.000    0.000 4094661476.py:1(separar_turmas)\n",
      "        4    0.000    0.000    0.000    0.000 636192225.py:1(quantidade_aulas)\n",
      "       52    0.000    0.000    0.000    0.000 636192225.py:16(<genexpr>)\n",
      "        8    0.000    0.000    0.000    0.000 717496282.py:1(separar_dias)\n",
      "        1    0.000    0.000    0.000    0.000 920554843.py:1(validar_sobreposicoes)\n",
      "        4    0.000    0.000    0.000    0.000 <frozen abc>:117(__instancecheck__)\n",
      "        1    0.000    0.000    0.001    0.001 <string>:1(<module>)\n",
      "        4    0.000    0.000    0.000    0.000 __init__.py:595(__init__)\n",
      "        4    0.000    0.000    0.000    0.000 __init__.py:669(update)\n",
      "        4    0.000    0.000    0.000    0.000 {built-in method _abc._abc_instancecheck}\n",
      "        4    0.000    0.000    0.000    0.000 {built-in method _collections._count_elements}\n",
      "       48    0.000    0.000    0.000    0.000 {built-in method builtins.abs}\n",
      "       20    0.000    0.000    0.000    0.000 {built-in method builtins.any}\n",
      "        1    0.000    0.000    0.001    0.001 {built-in method builtins.exec}\n",
      "        4    0.000    0.000    0.000    0.000 {built-in method builtins.isinstance}\n",
      "        1    0.000    0.000    0.000    0.000 {built-in method builtins.len}\n",
      "       21    0.000    0.000    0.000    0.000 {built-in method builtins.round}\n",
      "       10    0.000    0.000    0.000    0.000 {built-in method builtins.sum}\n",
      "       60    0.000    0.000    0.000    0.000 {method 'add' of 'set' objects}\n",
      "        4    0.000    0.000    0.000    0.000 {method 'append' of 'list' objects}\n",
      "      120    0.000    0.000    0.000    0.000 {method 'count' of 'str' objects}\n",
      "        1    0.000    0.000    0.000    0.000 {method 'disable' of '_lsprof.Profiler' objects}\n",
      "       49    0.000    0.000    0.000    0.000 {method 'find' of 'str' objects}\n",
      "       48    0.000    0.000    0.000    0.000 {method 'get' of 'dict' objects}\n",
      "       41    0.000    0.000    0.000    0.000 {method 'join' of 'str' objects}\n",
      "       28    0.000    0.000    0.000    0.000 {method 'replace' of 'str' objects}\n",
      "\n",
      "\n"
     ]
    }
   ],
   "source": [
    "cProfile.run('fitting(\\\"RLHMAAELLEGRATRACMLHTTRUILHILACAIGATIEMMMTAHLLICCTTRHUHALMTGHAGAIALCAAHELCGUHFHMRMURAFTRCGRACIEUIUITFHFEMEFEHIILGHLRIFRM\\\")')"
   ]
  },
  {
   "cell_type": "code",
   "execution_count": null,
   "metadata": {},
   "outputs": [],
   "source": []
  }
 ],
 "metadata": {
  "kernelspec": {
   "display_name": ".venv",
   "language": "python",
   "name": "python3"
  },
  "language_info": {
   "codemirror_mode": {
    "name": "ipython",
    "version": 3
   },
   "file_extension": ".py",
   "mimetype": "text/x-python",
   "name": "python",
   "nbconvert_exporter": "python",
   "pygments_lexer": "ipython3",
   "version": "3.12.4"
  }
 },
 "nbformat": 4,
 "nbformat_minor": 2
}
