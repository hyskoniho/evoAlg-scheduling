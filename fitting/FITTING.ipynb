{
 "cells": [
  {
   "cell_type": "markdown",
   "metadata": {},
   "source": [
    "# Imports"
   ]
  },
  {
   "cell_type": "code",
   "execution_count": 125,
   "metadata": {},
   "outputs": [],
   "source": [
    "import random, sys, string, os, inspect\n",
    "from collections import Counter"
   ]
  },
  {
   "cell_type": "markdown",
   "metadata": {},
   "source": [
    "# Definição do problema"
   ]
  },
  {
   "cell_type": "code",
   "execution_count": 126,
   "metadata": {},
   "outputs": [],
   "source": [
    "aulas: list[str] = [\n",
    "    'M', # Matemática\n",
    "    'T', # Tecnologia (Mind Makers)\n",
    "    'F', # Ed. Financeira\n",
    "    'L', # Língua Portuguesa\n",
    "    'H', # História\n",
    "    'G', # Geografia\n",
    "    'R', # Ensino Religioso\n",
    "    'A', # Artes\n",
    "    'C', # Ciências\n",
    "    'I', # Inglês\n",
    "    'U', # Música\n",
    "    'E', # Educação Física\n",
    "]"
   ]
  },
  {
   "cell_type": "code",
   "execution_count": 127,
   "metadata": {},
   "outputs": [
    {
     "data": {
      "text/plain": [
       "'ERFEIEMEHIMAECECTFLEHLLUFMIIUEMURFGHULEECFFGAUEGITFERLLLMCLMLTACTUHLFRCFFEHLHCUHLMECFCIRAMALMFIRLRCLREHTTCEMAAMGMELTCLFI'"
      ]
     },
     "execution_count": 127,
     "metadata": {},
     "output_type": "execute_result"
    }
   ],
   "source": [
    "case: str = ''.join([random.choice(aulas) for _ in range(120)])\n",
    "case"
   ]
  },
  {
   "cell_type": "markdown",
   "metadata": {},
   "source": [
    "# Funções auxiliares"
   ]
  },
  {
   "cell_type": "code",
   "execution_count": 128,
   "metadata": {},
   "outputs": [
    {
     "data": {
      "text/plain": [
       "['ERFEIEMEHIMAECECTFLEHLLUFMIIUE',\n",
       " 'MURFGHULEECFFGAUEGITFERLLLMCLM',\n",
       " 'LTACTUHLFRCFFEHLHCUHLMECFCIRAM',\n",
       " 'ALMFIRLRCLREHTTCEMAAMGMELTCLFI']"
      ]
     },
     "execution_count": 128,
     "metadata": {},
     "output_type": "execute_result"
    }
   ],
   "source": [
    "def separar_turmas(horario: str, quantidade_turmas: int = 4) -> list[str]:\n",
    "    \"\"\" Separa o horário em turmas\n",
    "    \n",
    "    Args:\n",
    "        horario (str): Horário das aulas\n",
    "        quantidade_turmas (int, optional): Quantidade de turmas. Defaults to 4.\n",
    "    \n",
    "    Returns:\n",
    "        list[str]: Lista de horários separados por turma\n",
    "    \"\"\"\n",
    "    # Calculando o tamanho do grupo\n",
    "    tamanho_grupo = len(horario) // quantidade_turmas\n",
    "    turmas = []\n",
    "    \n",
    "    # Dividindo a string em grupos\n",
    "    for i in range(quantidade_turmas):\n",
    "        inicio = i * tamanho_grupo\n",
    "        fim = inicio + tamanho_grupo\n",
    "        turmas.append(horario[inicio:fim])\n",
    "        \n",
    "    return turmas\n",
    "        \n",
    "separar_turmas(case)"
   ]
  },
  {
   "cell_type": "code",
   "execution_count": 129,
   "metadata": {},
   "outputs": [
    {
     "data": {
      "text/plain": [
       "[['E', 'R', 'F', 'E', 'I', 'E'],\n",
       " ['M', 'E', 'H', 'I', 'M', 'A'],\n",
       " ['E', 'C', 'E', 'C', 'T', 'F'],\n",
       " ['L', 'E', 'H', 'L', 'L', 'U'],\n",
       " ['F', 'M', 'I', 'I', 'U', 'E']]"
      ]
     },
     "execution_count": 129,
     "metadata": {},
     "output_type": "execute_result"
    }
   ],
   "source": [
    "def separar_dias(turma: str) -> list[list[str]]:\n",
    "    \"\"\" Separa a turma em dias\n",
    "    \n",
    "    Args:\n",
    "        turma (str): Horário de uma turma\n",
    "    \n",
    "    Returns:\n",
    "        list[list[str]]: Lista de horários separados por dia\n",
    "    \"\"\"\n",
    "    \n",
    "    # Cria uma lista de strings vazias\n",
    "    dias: list[list[str]] = [['' for _ in range(6)] for _ in range(5)]\n",
    "    \n",
    "    # Itera sobre o horário\n",
    "    for i, aula in enumerate(turma):\n",
    "        # Adiciona a aula no dia correspondente\n",
    "        dias[i // 6][i % 6] = aula\n",
    "    \n",
    "    return dias\n",
    "\n",
    "separar_dias(separar_turmas(case)[0])"
   ]
  },
  {
   "cell_type": "markdown",
   "metadata": {},
   "source": [
    "# Avaliação"
   ]
  },
  {
   "cell_type": "code",
   "execution_count": 130,
   "metadata": {},
   "outputs": [
    {
     "data": {
      "text/plain": [
       "20"
      ]
     },
     "execution_count": 130,
     "metadata": {},
     "output_type": "execute_result"
    }
   ],
   "source": [
    "REQUISITOS: dict = {\n",
    "    'M': 5, \n",
    "    'T': 1, \n",
    "    'F': 1, \n",
    "    'L': 7, \n",
    "    'H': 2, \n",
    "    'G': 2, \n",
    "    'R': 1, \n",
    "    'A': 2, \n",
    "    'C': 2, \n",
    "    'I': 5, \n",
    "    'U': 1, \n",
    "    'E': 1, \n",
    "}\n",
    "\n",
    "def quantidade_aulas(horario: str, quantidade: int = 1, requisitos: dict = REQUISITOS) -> int:\n",
    "    \"\"\" Verifica se o horário tem a quantidade de aulas necessárias \n",
    "    \n",
    "    Args:\n",
    "        horario (str): Horário das aulas\n",
    "        requisitos (dict): Requisitos de aulas por matéria\n",
    "    \n",
    "    Returns:\n",
    "        int: Quantidade de aulas faltantes ou excedentes\n",
    "    \"\"\"\n",
    "    \n",
    "    # Conta a quantidade de aulas de cada matéria no horário especificado\n",
    "    c: Counter = Counter(horario)\n",
    "    # e.g. {'M': 28, 'L': 28, 'H': 16, 'C': 8, 'R': 4, 'I': 20, 'F': 4}\n",
    "\n",
    "    nota_quantidade: int =  sum( # Somatório\n",
    "        abs( # Valor absoluto para obter a diferença entre a quantidade de aulas esperada e a quantidade de aulas no horário\n",
    "            (requisitos[materia]*quantidade) - c.get(materia, 0) # Quantidade esperada daquela matéria - Quantidade de aulas daquela matéria no horário\n",
    "        ) \\\n",
    "            for materia in requisitos # Aplica a operação para cada matéria, e soma o resultado\n",
    "    )\n",
    "    \n",
    "    return nota_quantidade\n",
    "\n",
    "quantidade_aulas(separar_turmas(case)[0], requisitos=REQUISITOS)"
   ]
  },
  {
   "cell_type": "code",
   "execution_count": 131,
   "metadata": {},
   "outputs": [
    {
     "data": {
      "text/plain": [
       "139"
      ]
     },
     "execution_count": 131,
     "metadata": {},
     "output_type": "execute_result"
    }
   ],
   "source": [
    "def validar_restricoes(horario: str) -> int:\n",
    "    \"\"\" Verifica se o horário atende as restrições\"\"\"\n",
    "    # TODO:  Somar a distância entre o horário esperado x horário anotado pois incentiva mais a aproximação do horário esperado\n",
    "    \n",
    "    nota_restricoes: int = 0\n",
    "    for turma in separar_turmas(horario):\n",
    "        nota_restricoes+= quantidade_aulas(turma)\n",
    "        for d, dia in enumerate(separar_dias(turma)):\n",
    "            \n",
    "            # Verifica se o horário da aula de inglês é após as 10:50\n",
    "            if 'I' in dia and dia.index('I') >= 4:\n",
    "                nota_restricoes += dia.index('I')\n",
    "            \n",
    "            # Verifica se tem aula de inglês\n",
    "            if 'I' not in dia:\n",
    "                nota_restricoes += 1\n",
    "            \n",
    "            # Verifica se o horário de História é após as 10:50\n",
    "            if 'H' in dia and dia.index('H') >= 4:\n",
    "                nota_restricoes += dia.index('H')\n",
    "                \n",
    "            # Verifica se o horário de Geografia é após as 10:50\n",
    "            if 'G' in dia and dia.index('G') >= 4:\n",
    "                nota_restricoes += dia.index('G')\n",
    "                \n",
    "            # Verifica se o horário de Educação Física é antes das 9:10\n",
    "            if 'E' in dia and dia.index('E') < 2:\n",
    "                nota_restricoes += 1\n",
    "                \n",
    "            # Verifica se o dia da educação física não é sexta-feira\n",
    "            if 'E' in dia and d != 4:\n",
    "                nota_restricoes += 1\n",
    "                \n",
    "            # Verifica se o dia de Artes é segunda-feira, terça-feira ou sexta-feira\n",
    "            if 'A' in dia and d not in [0, 1, 4]:\n",
    "                nota_restricoes += 1\n",
    "            \n",
    "            # Verifica se o dia de Música é segunda-feira, terça-feira ou sexta-feira\n",
    "            if 'U' in dia and d not in [0, 1, 4]:\n",
    "                nota_restricoes += 1\n",
    "\n",
    "    return nota_restricoes\n",
    "\n",
    "validar_restricoes(case)"
   ]
  },
  {
   "cell_type": "code",
   "execution_count": 132,
   "metadata": {},
   "outputs": [
    {
     "data": {
      "text/plain": [
       "18"
      ]
     },
     "execution_count": 132,
     "metadata": {},
     "output_type": "execute_result"
    }
   ],
   "source": [
    "def validar_sobreposicoes(strings: list[str]) -> int:\n",
    "    strings = [string.replace('T', 'M').replace('F', 'M')\\\n",
    "                .replace('G', 'H')\\\n",
    "                .replace('A', 'U') for string in strings]\n",
    "    \n",
    "    chars = set(list(''.join(strings)))\n",
    "    positions = {char: {num: {} for num in range(5)} for char in chars}\n",
    "    nota_sobreposicoes: int = 0\n",
    "    \n",
    "    for i, turma in enumerate(strings):\n",
    "        for j, dia in enumerate(separar_dias(turma)):\n",
    "            for k, aula in enumerate(dia):\n",
    "                if positions[aula][j] and k not in positions[aula][j]:\n",
    "                    positions[aula][j].add(k)\n",
    "                elif positions[aula][j] and k in positions[aula][j]:\n",
    "                    nota_sobreposicoes += 1\n",
    "                else:\n",
    "                    positions[aula][j] = {k}\n",
    "    \n",
    "    return nota_sobreposicoes\n",
    "\n",
    "\n",
    "validar_sobreposicoes(separar_turmas(case))"
   ]
  },
  {
   "cell_type": "code",
   "execution_count": 133,
   "metadata": {},
   "outputs": [
    {
     "data": {
      "text/plain": [
       "229"
      ]
     },
     "execution_count": 133,
     "metadata": {},
     "output_type": "execute_result"
    }
   ],
   "source": [
    "def fitting(horario: str, requisitos: dict = REQUISITOS) -> int:\n",
    "    \"\"\" Função de fitness\"\"\"\n",
    "    \n",
    "    return (quantidade_aulas(horario, 4, requisitos) + validar_restricoes(horario) + validar_sobreposicoes(separar_turmas(horario)))\n",
    "\n",
    "fitting(case, REQUISITOS)"
   ]
  },
  {
   "cell_type": "markdown",
   "metadata": {},
   "source": [
    "# Export"
   ]
  },
  {
   "cell_type": "code",
   "execution_count": 134,
   "metadata": {},
   "outputs": [],
   "source": [
    "raw: str = f'{globals()['_ih'][1]}{'\\n'*3}' + f'REQUISITOS: dict = {REQUISITOS}{'\\n'*3}' + f'{'\\n'*2}'.join([inspect.getsource(f) for f in [separar_turmas, separar_dias, quantidade_aulas, validar_restricoes, validar_sobreposicoes, fitting]])"
   ]
  },
  {
   "cell_type": "code",
   "execution_count": 135,
   "metadata": {},
   "outputs": [],
   "source": [
    "with open('fitting_function.py', 'w', encoding='utf-8') as f:\n",
    "    f.write(raw)"
   ]
  },
  {
   "cell_type": "markdown",
   "metadata": {},
   "source": [
    "# Test"
   ]
  },
  {
   "cell_type": "code",
   "execution_count": 136,
   "metadata": {},
   "outputs": [
    {
     "data": {
      "text/plain": [
       "0"
      ]
     },
     "execution_count": 136,
     "metadata": {},
     "output_type": "execute_result"
    }
   ],
   "source": [
    "validar_restricoes(\n",
    "'IARGMCHHAIMLLIFMLLLGILCMIULMTEIARGUCHHAIMLLIFMLLLGILCMIMLMTEIARGUCHHAIMLLIFMLLLGILCMIMLMTEIARGMCHHAIMLLIFMLLLGILCMIULMTE'\n",
    ")"
   ]
  },
  {
   "cell_type": "code",
   "execution_count": 137,
   "metadata": {},
   "outputs": [
    {
     "data": {
      "text/plain": [
       "31"
      ]
     },
     "execution_count": 137,
     "metadata": {},
     "output_type": "execute_result"
    }
   ],
   "source": [
    "validar_sobreposicoes(\n",
    "    separar_turmas('ITUHLCLAIHFLMGILLCMIMMLLARGIMEMCGIALHGILAMIMFLCLIMLRMLHIELUTIHAMLULGMILGCMLILLFHCIMRTALIEMLIUHHLICTAMAGLFIMMIMLMLRLLGICE')\n",
    ")"
   ]
  },
  {
   "cell_type": "code",
   "execution_count": 138,
   "metadata": {},
   "outputs": [
    {
     "data": {
      "text/plain": [
       "31"
      ]
     },
     "execution_count": 138,
     "metadata": {},
     "output_type": "execute_result"
    }
   ],
   "source": [
    "fitting(\n",
    "    'ITUHLCLAIHFLMGILLCMIMMLLARGIMEMCGIALHGILAMIMFLCLIMLRMLHIELUTIHAMLULGMILGCMLILLFHCIMRTALIEMLIUHHLICTAMAGLFIMMIMLMLRLLGICE'\n",
    ")"
   ]
  }
 ],
 "metadata": {
  "kernelspec": {
   "display_name": ".venv",
   "language": "python",
   "name": "python3"
  },
  "language_info": {
   "codemirror_mode": {
    "name": "ipython",
    "version": 3
   },
   "file_extension": ".py",
   "mimetype": "text/x-python",
   "name": "python",
   "nbconvert_exporter": "python",
   "pygments_lexer": "ipython3",
   "version": "3.12.4"
  }
 },
 "nbformat": 4,
 "nbformat_minor": 2
}
