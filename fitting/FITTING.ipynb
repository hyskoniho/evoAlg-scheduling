{
 "cells": [
  {
   "cell_type": "markdown",
   "metadata": {},
   "source": [
    "# Imports"
   ]
  },
  {
   "cell_type": "code",
   "execution_count": 84,
   "metadata": {},
   "outputs": [],
   "source": [
    "import random, sys, string, os, inspect\n",
    "from collections import Counter"
   ]
  },
  {
   "cell_type": "markdown",
   "metadata": {},
   "source": [
    "# Definição do problema"
   ]
  },
  {
   "cell_type": "code",
   "execution_count": 85,
   "metadata": {},
   "outputs": [],
   "source": [
    "aulas: list[str] = [\n",
    "    'M', # Matemática\n",
    "    'T', # Tecnologia (Mind Makers)\n",
    "    'F', # Ed. Financeira\n",
    "    'L', # Língua Portuguesa\n",
    "    'H', # História\n",
    "    'G', # Geografia\n",
    "    'R', # Ensino Religioso\n",
    "    'A', # Artes\n",
    "    'C', # Ciências\n",
    "    'I', # Inglês\n",
    "    'U', # Música\n",
    "    'E', # Educação Física\n",
    "]"
   ]
  },
  {
   "cell_type": "code",
   "execution_count": 86,
   "metadata": {},
   "outputs": [
    {
     "data": {
      "text/plain": [
       "'ITUREHHEETTRGIHTTIGUHCCCLCTLCEHIRAREACIAHCFEETILGTIEAMLUCCGILRGILLLUGTRELMCTMLIFLTIFUEFIAEIREMGFCMAAURUUAAFGGREGRACAAHML'"
      ]
     },
     "execution_count": 86,
     "metadata": {},
     "output_type": "execute_result"
    }
   ],
   "source": [
    "case: str = ''.join([random.choice(aulas) for _ in range(120)])\n",
    "case"
   ]
  },
  {
   "cell_type": "markdown",
   "metadata": {},
   "source": [
    "# Funções auxiliares"
   ]
  },
  {
   "cell_type": "code",
   "execution_count": 87,
   "metadata": {},
   "outputs": [
    {
     "data": {
      "text/plain": [
       "['IEEGTHLCRAHEGACLLGLMLUAECUAGRA',\n",
       " 'THTIICCEACCTTMCRLTMLTEEMMRARAH',\n",
       " 'UHTHGCTHRIFIILGGLRCIIFIGAUFECM',\n",
       " 'RERTUCLIEAELEUIIUETFFIRFAUGGAL']"
      ]
     },
     "execution_count": 87,
     "metadata": {},
     "output_type": "execute_result"
    }
   ],
   "source": [
    "def separar_turmas(horario: str, quantidade_turmas: int = 4) -> list[str]:\n",
    "    \"\"\" Separa o horário em turmas\n",
    "    \n",
    "    Args:\n",
    "        horario (str): Horário das aulas\n",
    "        quantidade_turmas (int, optional): Quantidade de turmas. Defaults to 4.\n",
    "    \n",
    "    Returns:\n",
    "        list[str]: Lista de horários separados por turma\n",
    "    \"\"\"\n",
    "    \n",
    "    # Cria uma lista de strings vazias\n",
    "    turmas: list[str] = ['' for _ in range(quantidade_turmas)]\n",
    "    \n",
    "    # Itera sobre o horário\n",
    "    for i, aula in enumerate(horario):\n",
    "        # Adiciona a aula na turma correspondente\n",
    "        turmas[i % quantidade_turmas] += aula\n",
    "    \n",
    "    return turmas\n",
    "\n",
    "separar_turmas(case)"
   ]
  },
  {
   "cell_type": "code",
   "execution_count": 88,
   "metadata": {},
   "outputs": [
    {
     "data": {
      "text/plain": [
       "[['I', 'E', 'E', 'G', 'T', 'H'],\n",
       " ['L', 'C', 'R', 'A', 'H', 'E'],\n",
       " ['G', 'A', 'C', 'L', 'L', 'G'],\n",
       " ['L', 'M', 'L', 'U', 'A', 'E'],\n",
       " ['C', 'U', 'A', 'G', 'R', 'A']]"
      ]
     },
     "execution_count": 88,
     "metadata": {},
     "output_type": "execute_result"
    }
   ],
   "source": [
    "def separar_dias(turma: str) -> list[list[str]]:\n",
    "    \"\"\" Separa a turma em dias\n",
    "    \n",
    "    Args:\n",
    "        turma (str): Horário de uma turma\n",
    "    \n",
    "    Returns:\n",
    "        list[list[str]]: Lista de horários separados por dia\n",
    "    \"\"\"\n",
    "    \n",
    "    # Cria uma lista de strings vazias\n",
    "    dias: list[list[str]] = [['' for _ in range(6)] for _ in range(5)]\n",
    "    \n",
    "    # Itera sobre o horário\n",
    "    for i, aula in enumerate(turma):\n",
    "        # Adiciona a aula no dia correspondente\n",
    "        dias[i // 6][i % 6] = aula\n",
    "    \n",
    "    return dias\n",
    "\n",
    "separar_dias(separar_turmas(case)[0])"
   ]
  },
  {
   "cell_type": "markdown",
   "metadata": {},
   "source": [
    "# Avaliação"
   ]
  },
  {
   "cell_type": "code",
   "execution_count": 89,
   "metadata": {},
   "outputs": [
    {
     "data": {
      "text/plain": [
       "76"
      ]
     },
     "execution_count": 89,
     "metadata": {},
     "output_type": "execute_result"
    }
   ],
   "source": [
    "REQUISITOS: dict = {\n",
    "    'M': 5*4, \n",
    "    'T': 1*4, \n",
    "    'F': 1*4, \n",
    "    'L': 7*4, \n",
    "    'H': 2*4, \n",
    "    'G': 2*4, \n",
    "    'R': 1*4, \n",
    "    'A': 2*4, \n",
    "    'C': 2*4, \n",
    "    'I': 5*4, \n",
    "    'U': 1*4, \n",
    "    'E': 1*4, \n",
    "}\n",
    "\n",
    "def quantidade_aulas(horario: str, requisitos: dict = REQUISITOS) -> int:\n",
    "    \"\"\" Verifica se o horário tem a quantidade de aulas necessárias \n",
    "    \n",
    "    Args:\n",
    "        horario (str): Horário das aulas\n",
    "        requisitos (dict): Requisitos de aulas por matéria\n",
    "    \n",
    "    Returns:\n",
    "        int: Quantidade de aulas faltantes ou excedentes\n",
    "    \"\"\"\n",
    "    \n",
    "    # Conta a quantidade de aulas de cada matéria no horário especificado\n",
    "    c: Counter = Counter(horario)\n",
    "    # e.g. {'M': 28, 'L': 28, 'H': 16, 'C': 8, 'R': 4, 'I': 20, 'F': 4}\n",
    "    \n",
    "    n: int =  sum( # Somatório\n",
    "        abs( # Valor absoluto para obter a diferença entre a quantidade de aulas esperada e a quantidade de aulas no horário\n",
    "            requisitos[materia] - c.get(materia, 0) # Quantidade esperada daquela matéria - Quantidade de aulas daquela matéria no horário\n",
    "        ) \\\n",
    "            for materia in requisitos # Aplica a operação para cada matéria, e soma o resultado\n",
    "    )\n",
    "    \n",
    "    return n\n",
    "\n",
    "quantidade_aulas(case, REQUISITOS)"
   ]
  },
  {
   "cell_type": "code",
   "execution_count": 90,
   "metadata": {},
   "outputs": [
    {
     "data": {
      "text/plain": [
       "51"
      ]
     },
     "execution_count": 90,
     "metadata": {},
     "output_type": "execute_result"
    }
   ],
   "source": [
    "def validar_restricoes(horario: str) -> int:\n",
    "    \"\"\" Verifica se o horário atende as restrições\"\"\"\n",
    "    # TODO:  Somar a distância entre o horário esperado x horário anotado pois incentiva mais a aproximação do horário esperado\n",
    "    \n",
    "    n: int = 0\n",
    "    for turma in separar_turmas(horario):\n",
    "        for d, dia in enumerate(separar_dias(turma)):\n",
    "            \n",
    "            # Verifica se o horário da aula de inglês é após as 10:50\n",
    "            if 'I' in dia and dia.index('I') >= 4:\n",
    "                n += dia.index('I')\n",
    "            \n",
    "            # Verifica se tem aula de inglês\n",
    "            if 'I' not in dia:\n",
    "                n += 1\n",
    "            \n",
    "            # Verifica se o horário de História é após as 10:50\n",
    "            if 'H' in dia and dia.index('H') >= 4:\n",
    "                n += dia.index('H')\n",
    "                \n",
    "            # Verifica se o horário de Geografia é após as 10:50\n",
    "            if 'G' in dia and dia.index('G') >= 4:\n",
    "                n += dia.index('G')\n",
    "                \n",
    "            # Verifica se o horário de Educação Física é antes das 9:10\n",
    "            if 'E' in dia and dia.index('E') < 2:\n",
    "                n += 1\n",
    "                \n",
    "            # Verifica se o dia da educação física não é sexta-feira\n",
    "            if 'E' in dia and d != 4:\n",
    "                n += 1\n",
    "                \n",
    "            # Verifica se o dia de Artes é segunda-feira, terça-feira ou sexta-feira\n",
    "            if 'A' in dia and d not in [0, 1, 4]:\n",
    "                n += 1\n",
    "            \n",
    "            # Verifica se o dia de Música é segunda-feira, terça-feira ou sexta-feira\n",
    "            if 'U' in dia and d not in [0, 1, 4]:\n",
    "                n += 1\n",
    "\n",
    "    return n\n",
    "\n",
    "validar_restricoes(case)"
   ]
  },
  {
   "cell_type": "code",
   "execution_count": 91,
   "metadata": {},
   "outputs": [
    {
     "data": {
      "text/plain": [
       "300"
      ]
     },
     "execution_count": 91,
     "metadata": {},
     "output_type": "execute_result"
    }
   ],
   "source": [
    "def validar_sobreposicoes(strings: list[str]) -> int:\n",
    "    \n",
    "    # Inicializa um dicionário para contar os caracteres em cada índice\n",
    "    contagem = {}\n",
    "    \n",
    "    # Itera sobre cada string e cada índice\n",
    "    for string in strings:\n",
    "        for i, char in enumerate(string):\n",
    "            if i not in contagem:\n",
    "                contagem[i] = set()  # Usamos um conjunto para evitar duplicatas\n",
    "            contagem[i].add(char)\n",
    "    \n",
    "    # Conta quantos índices têm mais de um caractere\n",
    "    sobreposicoes = sum(10 for chars in contagem.values() if len(chars) > 1)\n",
    "    \n",
    "    return sobreposicoes\n",
    "\n",
    "validar_sobreposicoes(separar_turmas(case))"
   ]
  },
  {
   "cell_type": "code",
   "execution_count": 92,
   "metadata": {},
   "outputs": [
    {
     "data": {
      "text/plain": [
       "427"
      ]
     },
     "execution_count": 92,
     "metadata": {},
     "output_type": "execute_result"
    }
   ],
   "source": [
    "def fitting(horario: str, requisitos: dict = REQUISITOS) -> int:\n",
    "    \"\"\" Função de fitness\"\"\"\n",
    "    \n",
    "    return (quantidade_aulas(horario, requisitos) + validar_restricoes(horario) + validar_sobreposicoes(separar_turmas(horario)))\n",
    "\n",
    "fitting(case, REQUISITOS)"
   ]
  },
  {
   "cell_type": "markdown",
   "metadata": {},
   "source": [
    "# Export"
   ]
  },
  {
   "cell_type": "code",
   "execution_count": 93,
   "metadata": {},
   "outputs": [],
   "source": [
    "raw: str = f'{globals()['_ih'][1]}{'\\n'*3}' + f'REQUISITOS: dict = {REQUISITOS}{'\\n'*3}' + f'{'\\n'*2}'.join([inspect.getsource(f) for f in [separar_turmas, separar_dias, quantidade_aulas, validar_restricoes, validar_sobreposicoes, fitting]])"
   ]
  },
  {
   "cell_type": "code",
   "execution_count": 94,
   "metadata": {},
   "outputs": [],
   "source": [
    "with open('fitting_function.py', 'w', encoding='utf-8') as f:\n",
    "    f.write(raw)"
   ]
  }
 ],
 "metadata": {
  "kernelspec": {
   "display_name": ".venv",
   "language": "python",
   "name": "python3"
  },
  "language_info": {
   "codemirror_mode": {
    "name": "ipython",
    "version": 3
   },
   "file_extension": ".py",
   "mimetype": "text/x-python",
   "name": "python",
   "nbconvert_exporter": "python",
   "pygments_lexer": "ipython3",
   "version": "3.12.4"
  }
 },
 "nbformat": 4,
 "nbformat_minor": 2
}
